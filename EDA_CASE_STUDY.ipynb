{
 "cells": [
  {
   "cell_type": "markdown",
   "metadata": {},
   "source": [
    "# Required Libraries for the Data Analysis"
   ]
  },
  {
   "cell_type": "code",
   "execution_count": 1,
   "metadata": {},
   "outputs": [],
   "source": [
    "#Libraries for Data Analysis\n",
    "import numpy as np\n",
    "import pandas as pd\n",
    "pd.set_option('display.max_rows',100)"
   ]
  },
  {
   "cell_type": "code",
   "execution_count": 2,
   "metadata": {},
   "outputs": [],
   "source": [
    "#Libraties for Data Visualization\n",
    "import matplotlib.pyplot as plt\n",
    "import seaborn as sns\n",
    "%matplotlib inline"
   ]
  },
  {
   "cell_type": "code",
   "execution_count": 3,
   "metadata": {},
   "outputs": [],
   "source": [
    "#import the warnings library to ignore the warnings\n",
    "import warnings\n",
    "warnings.filterwarnings('ignore')"
   ]
  },
  {
   "cell_type": "markdown",
   "metadata": {},
   "source": [
    "# Reading the Data"
   ]
  },
  {
   "cell_type": "code",
   "execution_count": 4,
   "metadata": {},
   "outputs": [
    {
     "data": {
      "text/html": [
       "<div>\n",
       "<style scoped>\n",
       "    .dataframe tbody tr th:only-of-type {\n",
       "        vertical-align: middle;\n",
       "    }\n",
       "\n",
       "    .dataframe tbody tr th {\n",
       "        vertical-align: top;\n",
       "    }\n",
       "\n",
       "    .dataframe thead th {\n",
       "        text-align: right;\n",
       "    }\n",
       "</style>\n",
       "<table border=\"1\" class=\"dataframe\">\n",
       "  <thead>\n",
       "    <tr style=\"text-align: right;\">\n",
       "      <th></th>\n",
       "      <th>SK_ID_CURR</th>\n",
       "      <th>TARGET</th>\n",
       "      <th>NAME_CONTRACT_TYPE</th>\n",
       "      <th>CODE_GENDER</th>\n",
       "      <th>FLAG_OWN_CAR</th>\n",
       "      <th>FLAG_OWN_REALTY</th>\n",
       "      <th>CNT_CHILDREN</th>\n",
       "      <th>AMT_INCOME_TOTAL</th>\n",
       "      <th>AMT_CREDIT</th>\n",
       "      <th>AMT_ANNUITY</th>\n",
       "      <th>...</th>\n",
       "      <th>FLAG_DOCUMENT_18</th>\n",
       "      <th>FLAG_DOCUMENT_19</th>\n",
       "      <th>FLAG_DOCUMENT_20</th>\n",
       "      <th>FLAG_DOCUMENT_21</th>\n",
       "      <th>AMT_REQ_CREDIT_BUREAU_HOUR</th>\n",
       "      <th>AMT_REQ_CREDIT_BUREAU_DAY</th>\n",
       "      <th>AMT_REQ_CREDIT_BUREAU_WEEK</th>\n",
       "      <th>AMT_REQ_CREDIT_BUREAU_MON</th>\n",
       "      <th>AMT_REQ_CREDIT_BUREAU_QRT</th>\n",
       "      <th>AMT_REQ_CREDIT_BUREAU_YEAR</th>\n",
       "    </tr>\n",
       "  </thead>\n",
       "  <tbody>\n",
       "    <tr>\n",
       "      <td>0</td>\n",
       "      <td>100002</td>\n",
       "      <td>1</td>\n",
       "      <td>Cash loans</td>\n",
       "      <td>M</td>\n",
       "      <td>N</td>\n",
       "      <td>Y</td>\n",
       "      <td>0</td>\n",
       "      <td>202500.0</td>\n",
       "      <td>406597.5</td>\n",
       "      <td>24700.5</td>\n",
       "      <td>...</td>\n",
       "      <td>0</td>\n",
       "      <td>0</td>\n",
       "      <td>0</td>\n",
       "      <td>0</td>\n",
       "      <td>0.0</td>\n",
       "      <td>0.0</td>\n",
       "      <td>0.0</td>\n",
       "      <td>0.0</td>\n",
       "      <td>0.0</td>\n",
       "      <td>1.0</td>\n",
       "    </tr>\n",
       "    <tr>\n",
       "      <td>1</td>\n",
       "      <td>100003</td>\n",
       "      <td>0</td>\n",
       "      <td>Cash loans</td>\n",
       "      <td>F</td>\n",
       "      <td>N</td>\n",
       "      <td>N</td>\n",
       "      <td>0</td>\n",
       "      <td>270000.0</td>\n",
       "      <td>1293502.5</td>\n",
       "      <td>35698.5</td>\n",
       "      <td>...</td>\n",
       "      <td>0</td>\n",
       "      <td>0</td>\n",
       "      <td>0</td>\n",
       "      <td>0</td>\n",
       "      <td>0.0</td>\n",
       "      <td>0.0</td>\n",
       "      <td>0.0</td>\n",
       "      <td>0.0</td>\n",
       "      <td>0.0</td>\n",
       "      <td>0.0</td>\n",
       "    </tr>\n",
       "    <tr>\n",
       "      <td>2</td>\n",
       "      <td>100004</td>\n",
       "      <td>0</td>\n",
       "      <td>Revolving loans</td>\n",
       "      <td>M</td>\n",
       "      <td>Y</td>\n",
       "      <td>Y</td>\n",
       "      <td>0</td>\n",
       "      <td>67500.0</td>\n",
       "      <td>135000.0</td>\n",
       "      <td>6750.0</td>\n",
       "      <td>...</td>\n",
       "      <td>0</td>\n",
       "      <td>0</td>\n",
       "      <td>0</td>\n",
       "      <td>0</td>\n",
       "      <td>0.0</td>\n",
       "      <td>0.0</td>\n",
       "      <td>0.0</td>\n",
       "      <td>0.0</td>\n",
       "      <td>0.0</td>\n",
       "      <td>0.0</td>\n",
       "    </tr>\n",
       "    <tr>\n",
       "      <td>3</td>\n",
       "      <td>100006</td>\n",
       "      <td>0</td>\n",
       "      <td>Cash loans</td>\n",
       "      <td>F</td>\n",
       "      <td>N</td>\n",
       "      <td>Y</td>\n",
       "      <td>0</td>\n",
       "      <td>135000.0</td>\n",
       "      <td>312682.5</td>\n",
       "      <td>29686.5</td>\n",
       "      <td>...</td>\n",
       "      <td>0</td>\n",
       "      <td>0</td>\n",
       "      <td>0</td>\n",
       "      <td>0</td>\n",
       "      <td>NaN</td>\n",
       "      <td>NaN</td>\n",
       "      <td>NaN</td>\n",
       "      <td>NaN</td>\n",
       "      <td>NaN</td>\n",
       "      <td>NaN</td>\n",
       "    </tr>\n",
       "    <tr>\n",
       "      <td>4</td>\n",
       "      <td>100007</td>\n",
       "      <td>0</td>\n",
       "      <td>Cash loans</td>\n",
       "      <td>M</td>\n",
       "      <td>N</td>\n",
       "      <td>Y</td>\n",
       "      <td>0</td>\n",
       "      <td>121500.0</td>\n",
       "      <td>513000.0</td>\n",
       "      <td>21865.5</td>\n",
       "      <td>...</td>\n",
       "      <td>0</td>\n",
       "      <td>0</td>\n",
       "      <td>0</td>\n",
       "      <td>0</td>\n",
       "      <td>0.0</td>\n",
       "      <td>0.0</td>\n",
       "      <td>0.0</td>\n",
       "      <td>0.0</td>\n",
       "      <td>0.0</td>\n",
       "      <td>0.0</td>\n",
       "    </tr>\n",
       "  </tbody>\n",
       "</table>\n",
       "<p>5 rows × 122 columns</p>\n",
       "</div>"
      ],
      "text/plain": [
       "   SK_ID_CURR  TARGET NAME_CONTRACT_TYPE CODE_GENDER FLAG_OWN_CAR  \\\n",
       "0      100002       1         Cash loans           M            N   \n",
       "1      100003       0         Cash loans           F            N   \n",
       "2      100004       0    Revolving loans           M            Y   \n",
       "3      100006       0         Cash loans           F            N   \n",
       "4      100007       0         Cash loans           M            N   \n",
       "\n",
       "  FLAG_OWN_REALTY  CNT_CHILDREN  AMT_INCOME_TOTAL  AMT_CREDIT  AMT_ANNUITY  \\\n",
       "0               Y             0          202500.0    406597.5      24700.5   \n",
       "1               N             0          270000.0   1293502.5      35698.5   \n",
       "2               Y             0           67500.0    135000.0       6750.0   \n",
       "3               Y             0          135000.0    312682.5      29686.5   \n",
       "4               Y             0          121500.0    513000.0      21865.5   \n",
       "\n",
       "   ...  FLAG_DOCUMENT_18 FLAG_DOCUMENT_19 FLAG_DOCUMENT_20 FLAG_DOCUMENT_21  \\\n",
       "0  ...                 0                0                0                0   \n",
       "1  ...                 0                0                0                0   \n",
       "2  ...                 0                0                0                0   \n",
       "3  ...                 0                0                0                0   \n",
       "4  ...                 0                0                0                0   \n",
       "\n",
       "  AMT_REQ_CREDIT_BUREAU_HOUR AMT_REQ_CREDIT_BUREAU_DAY  \\\n",
       "0                        0.0                       0.0   \n",
       "1                        0.0                       0.0   \n",
       "2                        0.0                       0.0   \n",
       "3                        NaN                       NaN   \n",
       "4                        0.0                       0.0   \n",
       "\n",
       "   AMT_REQ_CREDIT_BUREAU_WEEK  AMT_REQ_CREDIT_BUREAU_MON  \\\n",
       "0                         0.0                        0.0   \n",
       "1                         0.0                        0.0   \n",
       "2                         0.0                        0.0   \n",
       "3                         NaN                        NaN   \n",
       "4                         0.0                        0.0   \n",
       "\n",
       "   AMT_REQ_CREDIT_BUREAU_QRT  AMT_REQ_CREDIT_BUREAU_YEAR  \n",
       "0                        0.0                         1.0  \n",
       "1                        0.0                         0.0  \n",
       "2                        0.0                         0.0  \n",
       "3                        NaN                         NaN  \n",
       "4                        0.0                         0.0  \n",
       "\n",
       "[5 rows x 122 columns]"
      ]
     },
     "execution_count": 4,
     "metadata": {},
     "output_type": "execute_result"
    }
   ],
   "source": [
    "#application data file contains Client Information at the time of application\n",
    "application_data=pd.read_csv(\"application_data.csv\")\n",
    "application_data.head()"
   ]
  },
  {
   "cell_type": "code",
   "execution_count": 5,
   "metadata": {},
   "outputs": [
    {
     "data": {
      "text/html": [
       "<div>\n",
       "<style scoped>\n",
       "    .dataframe tbody tr th:only-of-type {\n",
       "        vertical-align: middle;\n",
       "    }\n",
       "\n",
       "    .dataframe tbody tr th {\n",
       "        vertical-align: top;\n",
       "    }\n",
       "\n",
       "    .dataframe thead th {\n",
       "        text-align: right;\n",
       "    }\n",
       "</style>\n",
       "<table border=\"1\" class=\"dataframe\">\n",
       "  <thead>\n",
       "    <tr style=\"text-align: right;\">\n",
       "      <th></th>\n",
       "      <th>SK_ID_CURR</th>\n",
       "      <th>TARGET</th>\n",
       "      <th>CNT_CHILDREN</th>\n",
       "      <th>AMT_INCOME_TOTAL</th>\n",
       "      <th>AMT_CREDIT</th>\n",
       "      <th>AMT_ANNUITY</th>\n",
       "      <th>AMT_GOODS_PRICE</th>\n",
       "      <th>REGION_POPULATION_RELATIVE</th>\n",
       "      <th>DAYS_BIRTH</th>\n",
       "      <th>DAYS_EMPLOYED</th>\n",
       "      <th>...</th>\n",
       "      <th>FLAG_DOCUMENT_18</th>\n",
       "      <th>FLAG_DOCUMENT_19</th>\n",
       "      <th>FLAG_DOCUMENT_20</th>\n",
       "      <th>FLAG_DOCUMENT_21</th>\n",
       "      <th>AMT_REQ_CREDIT_BUREAU_HOUR</th>\n",
       "      <th>AMT_REQ_CREDIT_BUREAU_DAY</th>\n",
       "      <th>AMT_REQ_CREDIT_BUREAU_WEEK</th>\n",
       "      <th>AMT_REQ_CREDIT_BUREAU_MON</th>\n",
       "      <th>AMT_REQ_CREDIT_BUREAU_QRT</th>\n",
       "      <th>AMT_REQ_CREDIT_BUREAU_YEAR</th>\n",
       "    </tr>\n",
       "  </thead>\n",
       "  <tbody>\n",
       "    <tr>\n",
       "      <td>count</td>\n",
       "      <td>307511.000000</td>\n",
       "      <td>307511.000000</td>\n",
       "      <td>307511.000000</td>\n",
       "      <td>3.075110e+05</td>\n",
       "      <td>3.075110e+05</td>\n",
       "      <td>307499.000000</td>\n",
       "      <td>3.072330e+05</td>\n",
       "      <td>307511.000000</td>\n",
       "      <td>307511.000000</td>\n",
       "      <td>307511.000000</td>\n",
       "      <td>...</td>\n",
       "      <td>307511.000000</td>\n",
       "      <td>307511.000000</td>\n",
       "      <td>307511.000000</td>\n",
       "      <td>307511.000000</td>\n",
       "      <td>265992.000000</td>\n",
       "      <td>265992.000000</td>\n",
       "      <td>265992.000000</td>\n",
       "      <td>265992.000000</td>\n",
       "      <td>265992.000000</td>\n",
       "      <td>265992.000000</td>\n",
       "    </tr>\n",
       "    <tr>\n",
       "      <td>mean</td>\n",
       "      <td>278180.518577</td>\n",
       "      <td>0.080729</td>\n",
       "      <td>0.417052</td>\n",
       "      <td>1.687979e+05</td>\n",
       "      <td>5.990260e+05</td>\n",
       "      <td>27108.573909</td>\n",
       "      <td>5.383962e+05</td>\n",
       "      <td>0.020868</td>\n",
       "      <td>-16036.995067</td>\n",
       "      <td>63815.045904</td>\n",
       "      <td>...</td>\n",
       "      <td>0.008130</td>\n",
       "      <td>0.000595</td>\n",
       "      <td>0.000507</td>\n",
       "      <td>0.000335</td>\n",
       "      <td>0.006402</td>\n",
       "      <td>0.007000</td>\n",
       "      <td>0.034362</td>\n",
       "      <td>0.267395</td>\n",
       "      <td>0.265474</td>\n",
       "      <td>1.899974</td>\n",
       "    </tr>\n",
       "    <tr>\n",
       "      <td>std</td>\n",
       "      <td>102790.175348</td>\n",
       "      <td>0.272419</td>\n",
       "      <td>0.722121</td>\n",
       "      <td>2.371231e+05</td>\n",
       "      <td>4.024908e+05</td>\n",
       "      <td>14493.737315</td>\n",
       "      <td>3.694465e+05</td>\n",
       "      <td>0.013831</td>\n",
       "      <td>4363.988632</td>\n",
       "      <td>141275.766519</td>\n",
       "      <td>...</td>\n",
       "      <td>0.089798</td>\n",
       "      <td>0.024387</td>\n",
       "      <td>0.022518</td>\n",
       "      <td>0.018299</td>\n",
       "      <td>0.083849</td>\n",
       "      <td>0.110757</td>\n",
       "      <td>0.204685</td>\n",
       "      <td>0.916002</td>\n",
       "      <td>0.794056</td>\n",
       "      <td>1.869295</td>\n",
       "    </tr>\n",
       "    <tr>\n",
       "      <td>min</td>\n",
       "      <td>100002.000000</td>\n",
       "      <td>0.000000</td>\n",
       "      <td>0.000000</td>\n",
       "      <td>2.565000e+04</td>\n",
       "      <td>4.500000e+04</td>\n",
       "      <td>1615.500000</td>\n",
       "      <td>4.050000e+04</td>\n",
       "      <td>0.000290</td>\n",
       "      <td>-25229.000000</td>\n",
       "      <td>-17912.000000</td>\n",
       "      <td>...</td>\n",
       "      <td>0.000000</td>\n",
       "      <td>0.000000</td>\n",
       "      <td>0.000000</td>\n",
       "      <td>0.000000</td>\n",
       "      <td>0.000000</td>\n",
       "      <td>0.000000</td>\n",
       "      <td>0.000000</td>\n",
       "      <td>0.000000</td>\n",
       "      <td>0.000000</td>\n",
       "      <td>0.000000</td>\n",
       "    </tr>\n",
       "    <tr>\n",
       "      <td>25%</td>\n",
       "      <td>189145.500000</td>\n",
       "      <td>0.000000</td>\n",
       "      <td>0.000000</td>\n",
       "      <td>1.125000e+05</td>\n",
       "      <td>2.700000e+05</td>\n",
       "      <td>16524.000000</td>\n",
       "      <td>2.385000e+05</td>\n",
       "      <td>0.010006</td>\n",
       "      <td>-19682.000000</td>\n",
       "      <td>-2760.000000</td>\n",
       "      <td>...</td>\n",
       "      <td>0.000000</td>\n",
       "      <td>0.000000</td>\n",
       "      <td>0.000000</td>\n",
       "      <td>0.000000</td>\n",
       "      <td>0.000000</td>\n",
       "      <td>0.000000</td>\n",
       "      <td>0.000000</td>\n",
       "      <td>0.000000</td>\n",
       "      <td>0.000000</td>\n",
       "      <td>0.000000</td>\n",
       "    </tr>\n",
       "    <tr>\n",
       "      <td>50%</td>\n",
       "      <td>278202.000000</td>\n",
       "      <td>0.000000</td>\n",
       "      <td>0.000000</td>\n",
       "      <td>1.471500e+05</td>\n",
       "      <td>5.135310e+05</td>\n",
       "      <td>24903.000000</td>\n",
       "      <td>4.500000e+05</td>\n",
       "      <td>0.018850</td>\n",
       "      <td>-15750.000000</td>\n",
       "      <td>-1213.000000</td>\n",
       "      <td>...</td>\n",
       "      <td>0.000000</td>\n",
       "      <td>0.000000</td>\n",
       "      <td>0.000000</td>\n",
       "      <td>0.000000</td>\n",
       "      <td>0.000000</td>\n",
       "      <td>0.000000</td>\n",
       "      <td>0.000000</td>\n",
       "      <td>0.000000</td>\n",
       "      <td>0.000000</td>\n",
       "      <td>1.000000</td>\n",
       "    </tr>\n",
       "    <tr>\n",
       "      <td>75%</td>\n",
       "      <td>367142.500000</td>\n",
       "      <td>0.000000</td>\n",
       "      <td>1.000000</td>\n",
       "      <td>2.025000e+05</td>\n",
       "      <td>8.086500e+05</td>\n",
       "      <td>34596.000000</td>\n",
       "      <td>6.795000e+05</td>\n",
       "      <td>0.028663</td>\n",
       "      <td>-12413.000000</td>\n",
       "      <td>-289.000000</td>\n",
       "      <td>...</td>\n",
       "      <td>0.000000</td>\n",
       "      <td>0.000000</td>\n",
       "      <td>0.000000</td>\n",
       "      <td>0.000000</td>\n",
       "      <td>0.000000</td>\n",
       "      <td>0.000000</td>\n",
       "      <td>0.000000</td>\n",
       "      <td>0.000000</td>\n",
       "      <td>0.000000</td>\n",
       "      <td>3.000000</td>\n",
       "    </tr>\n",
       "    <tr>\n",
       "      <td>max</td>\n",
       "      <td>456255.000000</td>\n",
       "      <td>1.000000</td>\n",
       "      <td>19.000000</td>\n",
       "      <td>1.170000e+08</td>\n",
       "      <td>4.050000e+06</td>\n",
       "      <td>258025.500000</td>\n",
       "      <td>4.050000e+06</td>\n",
       "      <td>0.072508</td>\n",
       "      <td>-7489.000000</td>\n",
       "      <td>365243.000000</td>\n",
       "      <td>...</td>\n",
       "      <td>1.000000</td>\n",
       "      <td>1.000000</td>\n",
       "      <td>1.000000</td>\n",
       "      <td>1.000000</td>\n",
       "      <td>4.000000</td>\n",
       "      <td>9.000000</td>\n",
       "      <td>8.000000</td>\n",
       "      <td>27.000000</td>\n",
       "      <td>261.000000</td>\n",
       "      <td>25.000000</td>\n",
       "    </tr>\n",
       "  </tbody>\n",
       "</table>\n",
       "<p>8 rows × 106 columns</p>\n",
       "</div>"
      ],
      "text/plain": [
       "          SK_ID_CURR         TARGET   CNT_CHILDREN  AMT_INCOME_TOTAL  \\\n",
       "count  307511.000000  307511.000000  307511.000000      3.075110e+05   \n",
       "mean   278180.518577       0.080729       0.417052      1.687979e+05   \n",
       "std    102790.175348       0.272419       0.722121      2.371231e+05   \n",
       "min    100002.000000       0.000000       0.000000      2.565000e+04   \n",
       "25%    189145.500000       0.000000       0.000000      1.125000e+05   \n",
       "50%    278202.000000       0.000000       0.000000      1.471500e+05   \n",
       "75%    367142.500000       0.000000       1.000000      2.025000e+05   \n",
       "max    456255.000000       1.000000      19.000000      1.170000e+08   \n",
       "\n",
       "         AMT_CREDIT    AMT_ANNUITY  AMT_GOODS_PRICE  \\\n",
       "count  3.075110e+05  307499.000000     3.072330e+05   \n",
       "mean   5.990260e+05   27108.573909     5.383962e+05   \n",
       "std    4.024908e+05   14493.737315     3.694465e+05   \n",
       "min    4.500000e+04    1615.500000     4.050000e+04   \n",
       "25%    2.700000e+05   16524.000000     2.385000e+05   \n",
       "50%    5.135310e+05   24903.000000     4.500000e+05   \n",
       "75%    8.086500e+05   34596.000000     6.795000e+05   \n",
       "max    4.050000e+06  258025.500000     4.050000e+06   \n",
       "\n",
       "       REGION_POPULATION_RELATIVE     DAYS_BIRTH  DAYS_EMPLOYED  ...  \\\n",
       "count               307511.000000  307511.000000  307511.000000  ...   \n",
       "mean                     0.020868  -16036.995067   63815.045904  ...   \n",
       "std                      0.013831    4363.988632  141275.766519  ...   \n",
       "min                      0.000290  -25229.000000  -17912.000000  ...   \n",
       "25%                      0.010006  -19682.000000   -2760.000000  ...   \n",
       "50%                      0.018850  -15750.000000   -1213.000000  ...   \n",
       "75%                      0.028663  -12413.000000    -289.000000  ...   \n",
       "max                      0.072508   -7489.000000  365243.000000  ...   \n",
       "\n",
       "       FLAG_DOCUMENT_18  FLAG_DOCUMENT_19  FLAG_DOCUMENT_20  FLAG_DOCUMENT_21  \\\n",
       "count     307511.000000     307511.000000     307511.000000     307511.000000   \n",
       "mean           0.008130          0.000595          0.000507          0.000335   \n",
       "std            0.089798          0.024387          0.022518          0.018299   \n",
       "min            0.000000          0.000000          0.000000          0.000000   \n",
       "25%            0.000000          0.000000          0.000000          0.000000   \n",
       "50%            0.000000          0.000000          0.000000          0.000000   \n",
       "75%            0.000000          0.000000          0.000000          0.000000   \n",
       "max            1.000000          1.000000          1.000000          1.000000   \n",
       "\n",
       "       AMT_REQ_CREDIT_BUREAU_HOUR  AMT_REQ_CREDIT_BUREAU_DAY  \\\n",
       "count               265992.000000              265992.000000   \n",
       "mean                     0.006402                   0.007000   \n",
       "std                      0.083849                   0.110757   \n",
       "min                      0.000000                   0.000000   \n",
       "25%                      0.000000                   0.000000   \n",
       "50%                      0.000000                   0.000000   \n",
       "75%                      0.000000                   0.000000   \n",
       "max                      4.000000                   9.000000   \n",
       "\n",
       "       AMT_REQ_CREDIT_BUREAU_WEEK  AMT_REQ_CREDIT_BUREAU_MON  \\\n",
       "count               265992.000000              265992.000000   \n",
       "mean                     0.034362                   0.267395   \n",
       "std                      0.204685                   0.916002   \n",
       "min                      0.000000                   0.000000   \n",
       "25%                      0.000000                   0.000000   \n",
       "50%                      0.000000                   0.000000   \n",
       "75%                      0.000000                   0.000000   \n",
       "max                      8.000000                  27.000000   \n",
       "\n",
       "       AMT_REQ_CREDIT_BUREAU_QRT  AMT_REQ_CREDIT_BUREAU_YEAR  \n",
       "count              265992.000000               265992.000000  \n",
       "mean                    0.265474                    1.899974  \n",
       "std                     0.794056                    1.869295  \n",
       "min                     0.000000                    0.000000  \n",
       "25%                     0.000000                    0.000000  \n",
       "50%                     0.000000                    1.000000  \n",
       "75%                     0.000000                    3.000000  \n",
       "max                   261.000000                   25.000000  \n",
       "\n",
       "[8 rows x 106 columns]"
      ]
     },
     "execution_count": 5,
     "metadata": {},
     "output_type": "execute_result"
    }
   ],
   "source": [
    "#Statistical View of application data\n",
    "application_data.describe()"
   ]
  },
  {
   "cell_type": "code",
   "execution_count": 6,
   "metadata": {},
   "outputs": [
    {
     "name": "stdout",
     "output_type": "stream",
     "text": [
      "<class 'pandas.core.frame.DataFrame'>\n",
      "RangeIndex: 307511 entries, 0 to 307510\n",
      "Columns: 122 entries, SK_ID_CURR to AMT_REQ_CREDIT_BUREAU_YEAR\n",
      "dtypes: float64(65), int64(41), object(16)\n",
      "memory usage: 286.2+ MB\n",
      "None\n",
      "(307511, 122)\n",
      "Index(['SK_ID_CURR', 'TARGET', 'NAME_CONTRACT_TYPE', 'CODE_GENDER',\n",
      "       'FLAG_OWN_CAR', 'FLAG_OWN_REALTY', 'CNT_CHILDREN', 'AMT_INCOME_TOTAL',\n",
      "       'AMT_CREDIT', 'AMT_ANNUITY',\n",
      "       ...\n",
      "       'FLAG_DOCUMENT_18', 'FLAG_DOCUMENT_19', 'FLAG_DOCUMENT_20',\n",
      "       'FLAG_DOCUMENT_21', 'AMT_REQ_CREDIT_BUREAU_HOUR',\n",
      "       'AMT_REQ_CREDIT_BUREAU_DAY', 'AMT_REQ_CREDIT_BUREAU_WEEK',\n",
      "       'AMT_REQ_CREDIT_BUREAU_MON', 'AMT_REQ_CREDIT_BUREAU_QRT',\n",
      "       'AMT_REQ_CREDIT_BUREAU_YEAR'],\n",
      "      dtype='object', length=122)\n"
     ]
    }
   ],
   "source": [
    "print(application_data.info())\n",
    "print(application_data.shape)\n",
    "print(application_data.columns)"
   ]
  },
  {
   "cell_type": "code",
   "execution_count": 7,
   "metadata": {},
   "outputs": [
    {
     "data": {
      "text/plain": [
       "COMMONAREA_MEDI                 214865\n",
       "COMMONAREA_AVG                  214865\n",
       "COMMONAREA_MODE                 214865\n",
       "NONLIVINGAPARTMENTS_AVG         213514\n",
       "NONLIVINGAPARTMENTS_MODE        213514\n",
       "NONLIVINGAPARTMENTS_MEDI        213514\n",
       "FONDKAPREMONT_MODE              210295\n",
       "LIVINGAPARTMENTS_AVG            210199\n",
       "LIVINGAPARTMENTS_MEDI           210199\n",
       "LIVINGAPARTMENTS_MODE           210199\n",
       "FLOORSMIN_AVG                   208642\n",
       "FLOORSMIN_MEDI                  208642\n",
       "FLOORSMIN_MODE                  208642\n",
       "YEARS_BUILD_AVG                 204488\n",
       "YEARS_BUILD_MEDI                204488\n",
       "YEARS_BUILD_MODE                204488\n",
       "OWN_CAR_AGE                     202929\n",
       "LANDAREA_AVG                    182590\n",
       "LANDAREA_MEDI                   182590\n",
       "LANDAREA_MODE                   182590\n",
       "BASEMENTAREA_MODE               179943\n",
       "BASEMENTAREA_AVG                179943\n",
       "BASEMENTAREA_MEDI               179943\n",
       "EXT_SOURCE_1                    173378\n",
       "NONLIVINGAREA_AVG               169682\n",
       "NONLIVINGAREA_MODE              169682\n",
       "NONLIVINGAREA_MEDI              169682\n",
       "ELEVATORS_MODE                  163891\n",
       "ELEVATORS_MEDI                  163891\n",
       "ELEVATORS_AVG                   163891\n",
       "WALLSMATERIAL_MODE              156341\n",
       "APARTMENTS_MEDI                 156061\n",
       "APARTMENTS_MODE                 156061\n",
       "APARTMENTS_AVG                  156061\n",
       "ENTRANCES_MODE                  154828\n",
       "ENTRANCES_AVG                   154828\n",
       "ENTRANCES_MEDI                  154828\n",
       "LIVINGAREA_MEDI                 154350\n",
       "LIVINGAREA_MODE                 154350\n",
       "LIVINGAREA_AVG                  154350\n",
       "HOUSETYPE_MODE                  154297\n",
       "FLOORSMAX_MODE                  153020\n",
       "FLOORSMAX_MEDI                  153020\n",
       "FLOORSMAX_AVG                   153020\n",
       "YEARS_BEGINEXPLUATATION_MEDI    150007\n",
       "YEARS_BEGINEXPLUATATION_MODE    150007\n",
       "YEARS_BEGINEXPLUATATION_AVG     150007\n",
       "TOTALAREA_MODE                  148431\n",
       "EMERGENCYSTATE_MODE             145755\n",
       "OCCUPATION_TYPE                  96391\n",
       "EXT_SOURCE_3                     60965\n",
       "AMT_REQ_CREDIT_BUREAU_YEAR       41519\n",
       "AMT_REQ_CREDIT_BUREAU_QRT        41519\n",
       "AMT_REQ_CREDIT_BUREAU_HOUR       41519\n",
       "AMT_REQ_CREDIT_BUREAU_DAY        41519\n",
       "AMT_REQ_CREDIT_BUREAU_WEEK       41519\n",
       "AMT_REQ_CREDIT_BUREAU_MON        41519\n",
       "NAME_TYPE_SUITE                   1292\n",
       "OBS_30_CNT_SOCIAL_CIRCLE          1021\n",
       "DEF_30_CNT_SOCIAL_CIRCLE          1021\n",
       "OBS_60_CNT_SOCIAL_CIRCLE          1021\n",
       "DEF_60_CNT_SOCIAL_CIRCLE          1021\n",
       "EXT_SOURCE_2                       660\n",
       "AMT_GOODS_PRICE                    278\n",
       "AMT_ANNUITY                         12\n",
       "CNT_FAM_MEMBERS                      2\n",
       "DAYS_LAST_PHONE_CHANGE               1\n",
       "dtype: int64"
      ]
     },
     "execution_count": 7,
     "metadata": {},
     "output_type": "execute_result"
    }
   ],
   "source": [
    "#Getting Null Values for columns for atleast single null value\n",
    "application_data_null=application_data.isnull().sum()[application_data.isnull().sum()>0].sort_values(ascending=False)\n",
    "application_data_null\n"
   ]
  },
  {
   "cell_type": "code",
   "execution_count": 8,
   "metadata": {},
   "outputs": [
    {
     "data": {
      "text/plain": [
       "COMMONAREA_MEDI             69.87230\n",
       "COMMONAREA_AVG              69.87230\n",
       "COMMONAREA_MODE             69.87230\n",
       "NONLIVINGAPARTMENTS_AVG     69.43296\n",
       "NONLIVINGAPARTMENTS_MODE    69.43296\n",
       "NONLIVINGAPARTMENTS_MEDI    69.43296\n",
       "FONDKAPREMONT_MODE          68.38617\n",
       "LIVINGAPARTMENTS_AVG        68.35495\n",
       "LIVINGAPARTMENTS_MEDI       68.35495\n",
       "LIVINGAPARTMENTS_MODE       68.35495\n",
       "FLOORSMIN_AVG               67.84863\n",
       "FLOORSMIN_MEDI              67.84863\n",
       "FLOORSMIN_MODE              67.84863\n",
       "YEARS_BUILD_AVG             66.49778\n",
       "YEARS_BUILD_MEDI            66.49778\n",
       "YEARS_BUILD_MODE            66.49778\n",
       "OWN_CAR_AGE                 65.99081\n",
       "LANDAREA_AVG                59.37674\n",
       "LANDAREA_MEDI               59.37674\n",
       "LANDAREA_MODE               59.37674\n",
       "BASEMENTAREA_MODE           58.51596\n",
       "BASEMENTAREA_AVG            58.51596\n",
       "BASEMENTAREA_MEDI           58.51596\n",
       "EXT_SOURCE_1                56.38107\n",
       "NONLIVINGAREA_AVG           55.17916\n",
       "NONLIVINGAREA_MODE          55.17916\n",
       "NONLIVINGAREA_MEDI          55.17916\n",
       "ELEVATORS_MODE              53.29598\n",
       "ELEVATORS_MEDI              53.29598\n",
       "ELEVATORS_AVG               53.29598\n",
       "WALLSMATERIAL_MODE          50.84078\n",
       "APARTMENTS_MEDI             50.74973\n",
       "APARTMENTS_MODE             50.74973\n",
       "APARTMENTS_AVG              50.74973\n",
       "ENTRANCES_MODE              50.34877\n",
       "ENTRANCES_AVG               50.34877\n",
       "ENTRANCES_MEDI              50.34877\n",
       "LIVINGAREA_MEDI             50.19333\n",
       "LIVINGAREA_MODE             50.19333\n",
       "LIVINGAREA_AVG              50.19333\n",
       "HOUSETYPE_MODE              50.17609\n",
       "dtype: float64"
      ]
     },
     "execution_count": 8,
     "metadata": {},
     "output_type": "execute_result"
    }
   ],
   "source": [
    "# Changing Application_data_null into percentage for ease\n",
    "application_data_null=round((100*application_data_null)/len(application_data),5)\n",
    "# Atleast 50% Null Values\n",
    "application_data_null=application_data_null[application_data_null>50]\n",
    "application_data_null"
   ]
  },
  {
   "cell_type": "code",
   "execution_count": 9,
   "metadata": {},
   "outputs": [],
   "source": [
    "application_data.drop(columns=application_data_null.index,inplace=True)"
   ]
  },
  {
   "cell_type": "code",
   "execution_count": 10,
   "metadata": {},
   "outputs": [
    {
     "data": {
      "text/plain": [
       "(307511, 81)"
      ]
     },
     "execution_count": 10,
     "metadata": {},
     "output_type": "execute_result"
    }
   ],
   "source": [
    "application_data.shape"
   ]
  },
  {
   "cell_type": "code",
   "execution_count": 11,
   "metadata": {},
   "outputs": [
    {
     "data": {
      "text/plain": [
       "FLOORSMAX_MEDI                  153020\n",
       "FLOORSMAX_AVG                   153020\n",
       "FLOORSMAX_MODE                  153020\n",
       "YEARS_BEGINEXPLUATATION_AVG     150007\n",
       "YEARS_BEGINEXPLUATATION_MODE    150007\n",
       "YEARS_BEGINEXPLUATATION_MEDI    150007\n",
       "TOTALAREA_MODE                  148431\n",
       "EMERGENCYSTATE_MODE             145755\n",
       "OCCUPATION_TYPE                  96391\n",
       "EXT_SOURCE_3                     60965\n",
       "AMT_REQ_CREDIT_BUREAU_QRT        41519\n",
       "AMT_REQ_CREDIT_BUREAU_YEAR       41519\n",
       "AMT_REQ_CREDIT_BUREAU_HOUR       41519\n",
       "AMT_REQ_CREDIT_BUREAU_DAY        41519\n",
       "AMT_REQ_CREDIT_BUREAU_WEEK       41519\n",
       "AMT_REQ_CREDIT_BUREAU_MON        41519\n",
       "NAME_TYPE_SUITE                   1292\n",
       "OBS_30_CNT_SOCIAL_CIRCLE          1021\n",
       "DEF_30_CNT_SOCIAL_CIRCLE          1021\n",
       "OBS_60_CNT_SOCIAL_CIRCLE          1021\n",
       "DEF_60_CNT_SOCIAL_CIRCLE          1021\n",
       "EXT_SOURCE_2                       660\n",
       "AMT_GOODS_PRICE                    278\n",
       "AMT_ANNUITY                         12\n",
       "CNT_FAM_MEMBERS                      2\n",
       "DAYS_LAST_PHONE_CHANGE               1\n",
       "dtype: int64"
      ]
     },
     "execution_count": 11,
     "metadata": {},
     "output_type": "execute_result"
    }
   ],
   "source": [
    "#Handling missing values for columns having null percentage less than 13%\n",
    "application_data_less=application_data.isnull().sum()[application_data.isnull().sum()>0].sort_values(ascending=False)\n",
    "application_data_less"
   ]
  },
  {
   "cell_type": "code",
   "execution_count": 12,
   "metadata": {},
   "outputs": [
    {
     "data": {
      "text/plain": [
       "NAME_TYPE_SUITE             0.42\n",
       "OBS_30_CNT_SOCIAL_CIRCLE    0.33\n",
       "DEF_30_CNT_SOCIAL_CIRCLE    0.33\n",
       "OBS_60_CNT_SOCIAL_CIRCLE    0.33\n",
       "DEF_60_CNT_SOCIAL_CIRCLE    0.33\n",
       "EXT_SOURCE_2                0.21\n",
       "AMT_GOODS_PRICE             0.09\n",
       "AMT_ANNUITY                 0.00\n",
       "CNT_FAM_MEMBERS             0.00\n",
       "DAYS_LAST_PHONE_CHANGE      0.00\n",
       "dtype: float64"
      ]
     },
     "execution_count": 12,
     "metadata": {},
     "output_type": "execute_result"
    }
   ],
   "source": [
    "application_data_less=round(100*application_data_less/len(application_data),2)\n",
    "application_data_less=application_data_less[application_data_less < 13]\n",
    "application_data_less"
   ]
  },
  {
   "cell_type": "markdown",
   "metadata": {},
   "source": [
    "### Since NAME_TYPE_SUITE Column is Categorical we can inpute the missing value with mode"
   ]
  },
  {
   "cell_type": "code",
   "execution_count": 13,
   "metadata": {},
   "outputs": [
    {
     "data": {
      "text/plain": [
       "Unaccompanied      0.811596\n",
       "Family             0.131112\n",
       "Spouse, partner    0.037130\n",
       "Children           0.010669\n",
       "Other_B            0.005780\n",
       "Other_A            0.002828\n",
       "Group of people    0.000885\n",
       "Name: NAME_TYPE_SUITE, dtype: float64"
      ]
     },
     "execution_count": 13,
     "metadata": {},
     "output_type": "execute_result"
    }
   ],
   "source": [
    "#Best method to impute missing values in NAME_TYPE_SUITE column\n",
    "application_data.NAME_TYPE_SUITE.value_counts(normalize=True)"
   ]
  },
  {
   "cell_type": "markdown",
   "metadata": {},
   "source": [
    "#### Unaccompanied is the most repeated one"
   ]
  },
  {
   "cell_type": "code",
   "execution_count": 14,
   "metadata": {},
   "outputs": [
    {
     "data": {
      "text/plain": [
       "count    306490.000000\n",
       "mean          1.422245\n",
       "std           2.400989\n",
       "min           0.000000\n",
       "25%           0.000000\n",
       "50%           0.000000\n",
       "75%           2.000000\n",
       "max         348.000000\n",
       "Name: OBS_30_CNT_SOCIAL_CIRCLE, dtype: float64"
      ]
     },
     "execution_count": 14,
     "metadata": {},
     "output_type": "execute_result"
    }
   ],
   "source": [
    "#Best method to impute missing values in OBS_30_CNT_SOCIAL_CIRCLE column\n",
    "application_data.OBS_30_CNT_SOCIAL_CIRCLE.describe()"
   ]
  },
  {
   "cell_type": "markdown",
   "metadata": {},
   "source": [
    "### when there are outliers you should always use median since mean will be changing with the outliers"
   ]
  },
  {
   "cell_type": "code",
   "execution_count": 15,
   "metadata": {},
   "outputs": [
    {
     "data": {
      "text/plain": [
       "count    3.068510e+05\n",
       "mean     5.143927e-01\n",
       "std      1.910602e-01\n",
       "min      8.173617e-08\n",
       "25%      3.924574e-01\n",
       "50%      5.659614e-01\n",
       "75%      6.636171e-01\n",
       "max      8.549997e-01\n",
       "Name: EXT_SOURCE_2, dtype: float64"
      ]
     },
     "execution_count": 15,
     "metadata": {},
     "output_type": "execute_result"
    }
   ],
   "source": [
    "#Best method to impute missing values in EXT_SOURCE_2 column\n",
    "application_data.EXT_SOURCE_2.describe()"
   ]
  },
  {
   "cell_type": "markdown",
   "metadata": {},
   "source": [
    "#### Since there are no outliers we can impute the missing values with mean"
   ]
  },
  {
   "cell_type": "code",
   "execution_count": 16,
   "metadata": {},
   "outputs": [
    {
     "data": {
      "text/plain": [
       "count    3.072330e+05\n",
       "mean     5.383962e+05\n",
       "std      3.694465e+05\n",
       "min      4.050000e+04\n",
       "25%      2.385000e+05\n",
       "50%      4.500000e+05\n",
       "75%      6.795000e+05\n",
       "max      4.050000e+06\n",
       "Name: AMT_GOODS_PRICE, dtype: float64"
      ]
     },
     "execution_count": 16,
     "metadata": {},
     "output_type": "execute_result"
    }
   ],
   "source": [
    "#Best method to impute missing values in AMT_GOODS_PRICE column\n",
    "application_data.AMT_GOODS_PRICE.describe()"
   ]
  },
  {
   "cell_type": "code",
   "execution_count": 17,
   "metadata": {},
   "outputs": [
    {
     "data": {
      "text/plain": [
       "count    307509.000000\n",
       "mean          2.152665\n",
       "std           0.910682\n",
       "min           1.000000\n",
       "25%           2.000000\n",
       "50%           2.000000\n",
       "75%           3.000000\n",
       "max          20.000000\n",
       "Name: CNT_FAM_MEMBERS, dtype: float64"
      ]
     },
     "execution_count": 17,
     "metadata": {},
     "output_type": "execute_result"
    }
   ],
   "source": [
    "application_data.CNT_FAM_MEMBERS.describe()"
   ]
  },
  {
   "cell_type": "code",
   "execution_count": 18,
   "metadata": {},
   "outputs": [
    {
     "data": {
      "text/plain": [
       "count    307499.000000\n",
       "mean      27108.573909\n",
       "std       14493.737315\n",
       "min        1615.500000\n",
       "25%       16524.000000\n",
       "50%       24903.000000\n",
       "75%       34596.000000\n",
       "max      258025.500000\n",
       "Name: AMT_ANNUITY, dtype: float64"
      ]
     },
     "execution_count": 18,
     "metadata": {},
     "output_type": "execute_result"
    }
   ],
   "source": [
    "application_data.AMT_ANNUITY.describe()"
   ]
  },
  {
   "cell_type": "markdown",
   "metadata": {},
   "source": [
    "### Clearly the above two cells have outliers so we will impute the missing values with median"
   ]
  },
  {
   "cell_type": "markdown",
   "metadata": {},
   "source": [
    "# Handling the outliers"
   ]
  },
  {
   "cell_type": "code",
   "execution_count": 19,
   "metadata": {},
   "outputs": [
    {
     "data": {
      "text/plain": [
       "count    3.075110e+05\n",
       "mean     1.687979e+05\n",
       "std      2.371231e+05\n",
       "min      2.565000e+04\n",
       "25%      1.125000e+05\n",
       "50%      1.471500e+05\n",
       "75%      2.025000e+05\n",
       "max      1.170000e+08\n",
       "Name: AMT_INCOME_TOTAL, dtype: float64"
      ]
     },
     "execution_count": 19,
     "metadata": {},
     "output_type": "execute_result"
    }
   ],
   "source": [
    "#Describing Column AMT_INCOME_TOTAL\n",
    "application_data.AMT_INCOME_TOTAL.describe()"
   ]
  },
  {
   "cell_type": "code",
   "execution_count": 20,
   "metadata": {},
   "outputs": [
    {
     "data": {
      "image/png": "[encoded data removed]",
      "text/plain": [
       "<Figure size 576x144 with 1 Axes>"
      ]
     },
     "metadata": {
      "needs_background": "light"
     },
     "output_type": "display_data"
    }
   ],
   "source": [
    "#Analysing Outliers for Analyzing\n",
    "plt.figure(figsize=[8,2])\n",
    "sns.boxplot(application_data.AMT_INCOME_TOTAL)\n",
    "plt.xscale('log')\n",
    "plt.show()"
   ]
  },
  {
   "cell_type": "code",
   "execution_count": 21,
   "metadata": {},
   "outputs": [
    {
     "data": {
      "text/plain": [
       "0.50    147150.0\n",
       "0.70    180000.0\n",
       "0.90    270000.0\n",
       "0.95    337500.0\n",
       "0.99    472500.0\n",
       "Name: AMT_INCOME_TOTAL, dtype: float64"
      ]
     },
     "execution_count": 21,
     "metadata": {},
     "output_type": "execute_result"
    }
   ],
   "source": [
    "#Performing Quantile Analysis on  column AMT_INCOME_TOTAL\n",
    "application_data.AMT_INCOME_TOTAL.quantile([0.5,0.7,0.9,0.95,0.99])"
   ]
  },
  {
   "cell_type": "code",
   "execution_count": 22,
   "metadata": {},
   "outputs": [
    {
     "data": {
      "text/html": [
       "<div>\n",
       "<style scoped>\n",
       "    .dataframe tbody tr th:only-of-type {\n",
       "        vertical-align: middle;\n",
       "    }\n",
       "\n",
       "    .dataframe tbody tr th {\n",
       "        vertical-align: top;\n",
       "    }\n",
       "\n",
       "    .dataframe thead th {\n",
       "        text-align: right;\n",
       "    }\n",
       "</style>\n",
       "<table border=\"1\" class=\"dataframe\">\n",
       "  <thead>\n",
       "    <tr style=\"text-align: right;\">\n",
       "      <th></th>\n",
       "      <th>SK_ID_CURR</th>\n",
       "      <th>TARGET</th>\n",
       "      <th>CNT_CHILDREN</th>\n",
       "      <th>AMT_INCOME_TOTAL</th>\n",
       "      <th>AMT_CREDIT</th>\n",
       "      <th>AMT_ANNUITY</th>\n",
       "      <th>AMT_GOODS_PRICE</th>\n",
       "      <th>REGION_POPULATION_RELATIVE</th>\n",
       "      <th>DAYS_BIRTH</th>\n",
       "      <th>DAYS_EMPLOYED</th>\n",
       "      <th>...</th>\n",
       "      <th>FLAG_DOCUMENT_18</th>\n",
       "      <th>FLAG_DOCUMENT_19</th>\n",
       "      <th>FLAG_DOCUMENT_20</th>\n",
       "      <th>FLAG_DOCUMENT_21</th>\n",
       "      <th>AMT_REQ_CREDIT_BUREAU_HOUR</th>\n",
       "      <th>AMT_REQ_CREDIT_BUREAU_DAY</th>\n",
       "      <th>AMT_REQ_CREDIT_BUREAU_WEEK</th>\n",
       "      <th>AMT_REQ_CREDIT_BUREAU_MON</th>\n",
       "      <th>AMT_REQ_CREDIT_BUREAU_QRT</th>\n",
       "      <th>AMT_REQ_CREDIT_BUREAU_YEAR</th>\n",
       "    </tr>\n",
       "  </thead>\n",
       "  <tbody>\n",
       "    <tr>\n",
       "      <td>count</td>\n",
       "      <td>3014.000000</td>\n",
       "      <td>3014.000000</td>\n",
       "      <td>3014.000000</td>\n",
       "      <td>3.014000e+03</td>\n",
       "      <td>3.014000e+03</td>\n",
       "      <td>3014.000000</td>\n",
       "      <td>3.012000e+03</td>\n",
       "      <td>3014.000000</td>\n",
       "      <td>3014.000000</td>\n",
       "      <td>3014.000000</td>\n",
       "      <td>...</td>\n",
       "      <td>3014.000000</td>\n",
       "      <td>3014.000000</td>\n",
       "      <td>3014.0</td>\n",
       "      <td>3014.000000</td>\n",
       "      <td>2713.000000</td>\n",
       "      <td>2713.000000</td>\n",
       "      <td>2713.000000</td>\n",
       "      <td>2713.000000</td>\n",
       "      <td>2713.000000</td>\n",
       "      <td>2713.000000</td>\n",
       "    </tr>\n",
       "    <tr>\n",
       "      <td>mean</td>\n",
       "      <td>278051.386530</td>\n",
       "      <td>0.053749</td>\n",
       "      <td>0.502654</td>\n",
       "      <td>7.553200e+05</td>\n",
       "      <td>1.120846e+06</td>\n",
       "      <td>51183.068679</td>\n",
       "      <td>1.040570e+06</td>\n",
       "      <td>0.032679</td>\n",
       "      <td>-15728.233245</td>\n",
       "      <td>20474.358991</td>\n",
       "      <td>...</td>\n",
       "      <td>0.017253</td>\n",
       "      <td>0.000664</td>\n",
       "      <td>0.0</td>\n",
       "      <td>0.000664</td>\n",
       "      <td>0.007003</td>\n",
       "      <td>0.011058</td>\n",
       "      <td>0.036491</td>\n",
       "      <td>0.461850</td>\n",
       "      <td>0.243273</td>\n",
       "      <td>1.618872</td>\n",
       "    </tr>\n",
       "    <tr>\n",
       "      <td>std</td>\n",
       "      <td>102640.833793</td>\n",
       "      <td>0.225559</td>\n",
       "      <td>0.789804</td>\n",
       "      <td>2.186735e+06</td>\n",
       "      <td>5.919368e+05</td>\n",
       "      <td>28742.972089</td>\n",
       "      <td>5.607922e+05</td>\n",
       "      <td>0.023011</td>\n",
       "      <td>3503.822536</td>\n",
       "      <td>89217.546305</td>\n",
       "      <td>...</td>\n",
       "      <td>0.130234</td>\n",
       "      <td>0.025756</td>\n",
       "      <td>0.0</td>\n",
       "      <td>0.025756</td>\n",
       "      <td>0.083408</td>\n",
       "      <td>0.177732</td>\n",
       "      <td>0.208049</td>\n",
       "      <td>1.455371</td>\n",
       "      <td>0.581626</td>\n",
       "      <td>1.786742</td>\n",
       "    </tr>\n",
       "    <tr>\n",
       "      <td>min</td>\n",
       "      <td>100059.000000</td>\n",
       "      <td>0.000000</td>\n",
       "      <td>0.000000</td>\n",
       "      <td>4.750470e+05</td>\n",
       "      <td>4.500000e+04</td>\n",
       "      <td>5598.000000</td>\n",
       "      <td>4.500000e+04</td>\n",
       "      <td>0.001276</td>\n",
       "      <td>-25117.000000</td>\n",
       "      <td>-15043.000000</td>\n",
       "      <td>...</td>\n",
       "      <td>0.000000</td>\n",
       "      <td>0.000000</td>\n",
       "      <td>0.0</td>\n",
       "      <td>0.000000</td>\n",
       "      <td>0.000000</td>\n",
       "      <td>0.000000</td>\n",
       "      <td>0.000000</td>\n",
       "      <td>0.000000</td>\n",
       "      <td>0.000000</td>\n",
       "      <td>0.000000</td>\n",
       "    </tr>\n",
       "    <tr>\n",
       "      <td>25%</td>\n",
       "      <td>190164.250000</td>\n",
       "      <td>0.000000</td>\n",
       "      <td>0.000000</td>\n",
       "      <td>5.400000e+05</td>\n",
       "      <td>6.750000e+05</td>\n",
       "      <td>33910.875000</td>\n",
       "      <td>6.750000e+05</td>\n",
       "      <td>0.011657</td>\n",
       "      <td>-18324.750000</td>\n",
       "      <td>-3365.500000</td>\n",
       "      <td>...</td>\n",
       "      <td>0.000000</td>\n",
       "      <td>0.000000</td>\n",
       "      <td>0.0</td>\n",
       "      <td>0.000000</td>\n",
       "      <td>0.000000</td>\n",
       "      <td>0.000000</td>\n",
       "      <td>0.000000</td>\n",
       "      <td>0.000000</td>\n",
       "      <td>0.000000</td>\n",
       "      <td>0.000000</td>\n",
       "    </tr>\n",
       "    <tr>\n",
       "      <td>50%</td>\n",
       "      <td>276974.000000</td>\n",
       "      <td>0.000000</td>\n",
       "      <td>0.000000</td>\n",
       "      <td>6.300000e+05</td>\n",
       "      <td>1.024740e+06</td>\n",
       "      <td>45954.000000</td>\n",
       "      <td>9.000000e+05</td>\n",
       "      <td>0.028663</td>\n",
       "      <td>-15479.500000</td>\n",
       "      <td>-1781.500000</td>\n",
       "      <td>...</td>\n",
       "      <td>0.000000</td>\n",
       "      <td>0.000000</td>\n",
       "      <td>0.0</td>\n",
       "      <td>0.000000</td>\n",
       "      <td>0.000000</td>\n",
       "      <td>0.000000</td>\n",
       "      <td>0.000000</td>\n",
       "      <td>0.000000</td>\n",
       "      <td>0.000000</td>\n",
       "      <td>1.000000</td>\n",
       "    </tr>\n",
       "    <tr>\n",
       "      <td>75%</td>\n",
       "      <td>368538.250000</td>\n",
       "      <td>0.000000</td>\n",
       "      <td>1.000000</td>\n",
       "      <td>6.789375e+05</td>\n",
       "      <td>1.354500e+06</td>\n",
       "      <td>62352.000000</td>\n",
       "      <td>1.350000e+06</td>\n",
       "      <td>0.046220</td>\n",
       "      <td>-12995.500000</td>\n",
       "      <td>-789.000000</td>\n",
       "      <td>...</td>\n",
       "      <td>0.000000</td>\n",
       "      <td>0.000000</td>\n",
       "      <td>0.0</td>\n",
       "      <td>0.000000</td>\n",
       "      <td>0.000000</td>\n",
       "      <td>0.000000</td>\n",
       "      <td>0.000000</td>\n",
       "      <td>0.000000</td>\n",
       "      <td>0.000000</td>\n",
       "      <td>3.000000</td>\n",
       "    </tr>\n",
       "    <tr>\n",
       "      <td>max</td>\n",
       "      <td>456236.000000</td>\n",
       "      <td>1.000000</td>\n",
       "      <td>5.000000</td>\n",
       "      <td>1.170000e+08</td>\n",
       "      <td>4.050000e+06</td>\n",
       "      <td>258025.500000</td>\n",
       "      <td>4.050000e+06</td>\n",
       "      <td>0.072508</td>\n",
       "      <td>-7793.000000</td>\n",
       "      <td>365243.000000</td>\n",
       "      <td>...</td>\n",
       "      <td>1.000000</td>\n",
       "      <td>1.000000</td>\n",
       "      <td>0.0</td>\n",
       "      <td>1.000000</td>\n",
       "      <td>1.000000</td>\n",
       "      <td>6.000000</td>\n",
       "      <td>4.000000</td>\n",
       "      <td>17.000000</td>\n",
       "      <td>5.000000</td>\n",
       "      <td>13.000000</td>\n",
       "    </tr>\n",
       "  </tbody>\n",
       "</table>\n",
       "<p>8 rows × 68 columns</p>\n",
       "</div>"
      ],
      "text/plain": [
       "          SK_ID_CURR       TARGET  CNT_CHILDREN  AMT_INCOME_TOTAL  \\\n",
       "count    3014.000000  3014.000000   3014.000000      3.014000e+03   \n",
       "mean   278051.386530     0.053749      0.502654      7.553200e+05   \n",
       "std    102640.833793     0.225559      0.789804      2.186735e+06   \n",
       "min    100059.000000     0.000000      0.000000      4.750470e+05   \n",
       "25%    190164.250000     0.000000      0.000000      5.400000e+05   \n",
       "50%    276974.000000     0.000000      0.000000      6.300000e+05   \n",
       "75%    368538.250000     0.000000      1.000000      6.789375e+05   \n",
       "max    456236.000000     1.000000      5.000000      1.170000e+08   \n",
       "\n",
       "         AMT_CREDIT    AMT_ANNUITY  AMT_GOODS_PRICE  \\\n",
       "count  3.014000e+03    3014.000000     3.012000e+03   \n",
       "mean   1.120846e+06   51183.068679     1.040570e+06   \n",
       "std    5.919368e+05   28742.972089     5.607922e+05   \n",
       "min    4.500000e+04    5598.000000     4.500000e+04   \n",
       "25%    6.750000e+05   33910.875000     6.750000e+05   \n",
       "50%    1.024740e+06   45954.000000     9.000000e+05   \n",
       "75%    1.354500e+06   62352.000000     1.350000e+06   \n",
       "max    4.050000e+06  258025.500000     4.050000e+06   \n",
       "\n",
       "       REGION_POPULATION_RELATIVE    DAYS_BIRTH  DAYS_EMPLOYED  ...  \\\n",
       "count                 3014.000000   3014.000000    3014.000000  ...   \n",
       "mean                     0.032679 -15728.233245   20474.358991  ...   \n",
       "std                      0.023011   3503.822536   89217.546305  ...   \n",
       "min                      0.001276 -25117.000000  -15043.000000  ...   \n",
       "25%                      0.011657 -18324.750000   -3365.500000  ...   \n",
       "50%                      0.028663 -15479.500000   -1781.500000  ...   \n",
       "75%                      0.046220 -12995.500000    -789.000000  ...   \n",
       "max                      0.072508  -7793.000000  365243.000000  ...   \n",
       "\n",
       "       FLAG_DOCUMENT_18  FLAG_DOCUMENT_19  FLAG_DOCUMENT_20  FLAG_DOCUMENT_21  \\\n",
       "count       3014.000000       3014.000000            3014.0       3014.000000   \n",
       "mean           0.017253          0.000664               0.0          0.000664   \n",
       "std            0.130234          0.025756               0.0          0.025756   \n",
       "min            0.000000          0.000000               0.0          0.000000   \n",
       "25%            0.000000          0.000000               0.0          0.000000   \n",
       "50%            0.000000          0.000000               0.0          0.000000   \n",
       "75%            0.000000          0.000000               0.0          0.000000   \n",
       "max            1.000000          1.000000               0.0          1.000000   \n",
       "\n",
       "       AMT_REQ_CREDIT_BUREAU_HOUR  AMT_REQ_CREDIT_BUREAU_DAY  \\\n",
       "count                 2713.000000                2713.000000   \n",
       "mean                     0.007003                   0.011058   \n",
       "std                      0.083408                   0.177732   \n",
       "min                      0.000000                   0.000000   \n",
       "25%                      0.000000                   0.000000   \n",
       "50%                      0.000000                   0.000000   \n",
       "75%                      0.000000                   0.000000   \n",
       "max                      1.000000                   6.000000   \n",
       "\n",
       "       AMT_REQ_CREDIT_BUREAU_WEEK  AMT_REQ_CREDIT_BUREAU_MON  \\\n",
       "count                 2713.000000                2713.000000   \n",
       "mean                     0.036491                   0.461850   \n",
       "std                      0.208049                   1.455371   \n",
       "min                      0.000000                   0.000000   \n",
       "25%                      0.000000                   0.000000   \n",
       "50%                      0.000000                   0.000000   \n",
       "75%                      0.000000                   0.000000   \n",
       "max                      4.000000                  17.000000   \n",
       "\n",
       "       AMT_REQ_CREDIT_BUREAU_QRT  AMT_REQ_CREDIT_BUREAU_YEAR  \n",
       "count                2713.000000                 2713.000000  \n",
       "mean                    0.243273                    1.618872  \n",
       "std                     0.581626                    1.786742  \n",
       "min                     0.000000                    0.000000  \n",
       "25%                     0.000000                    0.000000  \n",
       "50%                     0.000000                    1.000000  \n",
       "75%                     0.000000                    3.000000  \n",
       "max                     5.000000                   13.000000  \n",
       "\n",
       "[8 rows x 68 columns]"
      ]
     },
     "execution_count": 22,
     "metadata": {},
     "output_type": "execute_result"
    }
   ],
   "source": [
    "#Describing Column name AMT_INCOME_TOTAL > 472500\n",
    "application_data[application_data.AMT_INCOME_TOTAL > 472500].describe()"
   ]
  },
  {
   "cell_type": "code",
   "execution_count": 23,
   "metadata": {},
   "outputs": [
    {
     "data": {
      "text/plain": [
       "<matplotlib.axes._subplots.AxesSubplot at 0x25b90f5ac48>"
      ]
     },
     "execution_count": 23,
     "metadata": {},
     "output_type": "execute_result"
    },
    {
     "data": {
      "image/png": "[encoded data removed]",
      "text/plain": [
       "<Figure size 432x288 with 1 Axes>"
      ]
     },
     "metadata": {
      "needs_background": "light"
     },
     "output_type": "display_data"
    }
   ],
   "source": [
    "#Handling Outliers by Using OUTLIER Method for column AMT_INCOME_TOTAL\n",
    "Q1=application_data['AMT_INCOME_TOTAL'].quantile(0.25)\n",
    "Q3=application_data['AMT_INCOME_TOTAL'].quantile(0.75)\n",
    "IQR=Q3-Q1\n",
    "application_data.query('(@Q1 - 1.5 * @IQR) <= AMT_INCOME_TOTAL <= (@Q3 + 1.5 * @IQR)',inplace =True)\n",
    "sns.boxplot(application_data['AMT_INCOME_TOTAL'])"
   ]
  },
  {
   "cell_type": "code",
   "execution_count": 24,
   "metadata": {},
   "outputs": [
    {
     "name": "stdout",
     "output_type": "stream",
     "text": [
      "0.99    66982.5\n",
      "Name: AMT_ANNUITY, dtype: float64\n"
     ]
    },
    {
     "data": {
      "text/plain": [
       "<matplotlib.axes._subplots.AxesSubplot at 0x25b90ec7108>"
      ]
     },
     "execution_count": 24,
     "metadata": {},
     "output_type": "execute_result"
    },
    {
     "data": {
      "image/png": "[encoded data removed]",
      "text/plain": [
       "<Figure size 432x288 with 1 Axes>"
      ]
     },
     "metadata": {
      "needs_background": "light"
     },
     "output_type": "display_data"
    }
   ],
   "source": [
    "application_data['AMT_ANNUITY'].describe()\n",
    "print(application_data['AMT_ANNUITY'].quantile([0.99]))\n",
    "sns.boxplot(application_data['AMT_ANNUITY'])"
   ]
  },
  {
   "cell_type": "code",
   "execution_count": 25,
   "metadata": {},
   "outputs": [
    {
     "data": {
      "text/plain": [
       "<matplotlib.axes._subplots.AxesSubplot at 0x25b84fdffc8>"
      ]
     },
     "execution_count": 25,
     "metadata": {},
     "output_type": "execute_result"
    },
    {
     "data": {
      "image/png": "[encoded data removed]",
      "text/plain": [
       "<Figure size 432x288 with 1 Axes>"
      ]
     },
     "metadata": {
      "needs_background": "light"
     },
     "output_type": "display_data"
    }
   ],
   "source": [
    "#Handling Outliers by Using OUTLIER Method for column ANNUITY\n",
    "Q1=application_data['AMT_ANNUITY'].quantile(0.25)\n",
    "Q3=application_data['AMT_ANNUITY'].quantile(0.75)\n",
    "IQR=Q3-Q1\n",
    "application_data.query('(@Q1 - 1.5 * @IQR) <= AMT_ANNUITY <= (@Q3 + 1.5 * @IQR)',inplace =True)\n",
    "sns.boxplot(application_data['AMT_ANNUITY'])"
   ]
  },
  {
   "cell_type": "code",
   "execution_count": 26,
   "metadata": {},
   "outputs": [
    {
     "name": "stdout",
     "output_type": "stream",
     "text": [
      "0.99    1530000.0\n",
      "Name: AMT_GOODS_PRICE, dtype: float64\n"
     ]
    },
    {
     "data": {
      "text/plain": [
       "<matplotlib.axes._subplots.AxesSubplot at 0x25b8501e648>"
      ]
     },
     "execution_count": 26,
     "metadata": {},
     "output_type": "execute_result"
    },
    {
     "data": {
      "image/png": "[encoded data removed]",
      "text/plain": [
       "<Figure size 432x288 with 1 Axes>"
      ]
     },
     "metadata": {
      "needs_background": "light"
     },
     "output_type": "display_data"
    }
   ],
   "source": [
    "application_data['AMT_GOODS_PRICE'].describe()\n",
    "print(application_data['AMT_GOODS_PRICE'].quantile([0.99]))\n",
    "sns.boxplot(application_data['AMT_GOODS_PRICE'])"
   ]
  },
  {
   "cell_type": "code",
   "execution_count": 27,
   "metadata": {},
   "outputs": [
    {
     "data": {
      "image/png": "[encoded data removed]",
      "text/plain": [
       "<Figure size 432x288 with 1 Axes>"
      ]
     },
     "metadata": {
      "needs_background": "light"
     },
     "output_type": "display_data"
    }
   ],
   "source": [
    "#we can subset the values and plot \n",
    "subset=application_data[application_data.AMT_GOODS_PRICE < 1350000]\n",
    "sns.boxplot(subset['AMT_GOODS_PRICE'])\n",
    "plt.show()"
   ]
  },
  {
   "cell_type": "markdown",
   "metadata": {},
   "source": [
    "# Dividing Data into two sets"
   ]
  },
  {
   "cell_type": "code",
   "execution_count": 28,
   "metadata": {},
   "outputs": [],
   "source": [
    "#Dividing Data into 2 sets. i.e Target 1 and 0\n",
    "T1=application_data[application_data.TARGET==1]\n",
    "T0=application_data[application_data.TARGET==0]\n"
   ]
  },
  {
   "cell_type": "markdown",
   "metadata": {},
   "source": [
    "## Finding Imbalance percentage"
   ]
  },
  {
   "cell_type": "code",
   "execution_count": 29,
   "metadata": {},
   "outputs": [
    {
     "data": {
      "text/plain": [
       "0    0.917438\n",
       "1    0.082562\n",
       "Name: TARGET, dtype: float64"
      ]
     },
     "execution_count": 29,
     "metadata": {},
     "output_type": "execute_result"
    }
   ],
   "source": [
    "#Finding Imbalance Percentage\n",
    "application_data.TARGET.value_counts(normalize=True)"
   ]
  },
  {
   "cell_type": "markdown",
   "metadata": {},
   "source": [
    "# Univariate Analysis"
   ]
  },
  {
   "cell_type": "markdown",
   "metadata": {},
   "source": [
    "## Categorical Unordered Univariate Analysis"
   ]
  },
  {
   "cell_type": "code",
   "execution_count": 30,
   "metadata": {},
   "outputs": [
    {
     "data": {
      "image/png": "[encoded data removed]",
      "text/plain": [
       "<Figure size 1080x360 with 2 Axes>"
      ]
     },
     "metadata": {
      "needs_background": "light"
     },
     "output_type": "display_data"
    }
   ],
   "source": [
    "#Comparing the target variable across Genders\n",
    "\n",
    "plt.figure(figsize=[15,5])\n",
    "plt.figure(1)\n",
    "plt.subplot(1,2,1)\n",
    "T1[T1.CODE_GENDER != 'XNA'].CODE_GENDER.value_counts().plot.bar()\n",
    "plt.xlabel(\"CODE_GENDER\")\n",
    "plt.ylabel(\"COUNT\")\n",
    "plt.title(\"T1 across Gender\")\n",
    "\n",
    "plt.subplot(1,2,2)\n",
    "T0[T0.CODE_GENDER != 'XNA'].CODE_GENDER.value_counts().plot.bar()\n",
    "plt.xlabel(\"CODE_GENDER\")\n",
    "plt.ylabel(\"COUNT\")\n",
    "plt.title(\"T0 across Gender\")\n",
    "plt.show()\n"
   ]
  },
  {
   "cell_type": "markdown",
   "metadata": {},
   "source": [
    "### Females are able to do payment with less difficulties"
   ]
  },
  {
   "cell_type": "code",
   "execution_count": 31,
   "metadata": {},
   "outputs": [
    {
     "data": {
      "image/png": "[encoded data removed]",
      "text/plain": [
       "<Figure size 1080x360 with 2 Axes>"
      ]
     },
     "metadata": {
      "needs_background": "light"
     },
     "output_type": "display_data"
    }
   ],
   "source": [
    "#Comparing the target variable across Family_Status\n",
    "\n",
    "plt.figure(figsize=[15,5])\n",
    "plt.figure(1)\n",
    "\n",
    "plt.subplot(1,2,1)\n",
    "T1[T1.NAME_FAMILY_STATUS!='Unknown'].NAME_FAMILY_STATUS.value_counts().plot.bar()\n",
    "plt.xlabel(\"NAME_FAMILY_STATUS\")\n",
    "plt.ylabel(\"COUNT\")\n",
    "plt.title(\"T1 across Family_status\")\n",
    "\n",
    "plt.subplot(1,2,2)\n",
    "T0[T0.NAME_FAMILY_STATUS!='Unknown'].NAME_FAMILY_STATUS.value_counts().plot.bar()\n",
    "plt.xlabel(\"NAME_FAMILY_STATUS\")\n",
    "plt.ylabel(\"COUNT\")\n",
    "plt.title(\"T0 across Family_status\")\n",
    "plt.show()\n"
   ]
  },
  {
   "cell_type": "markdown",
   "metadata": {},
   "source": [
    "### In both the cases married people are having more probability "
   ]
  },
  {
   "cell_type": "code",
   "execution_count": 32,
   "metadata": {},
   "outputs": [
    {
     "data": {
      "image/png": "[encoded data removed]",
      "text/plain": [
       "<Figure size 1080x360 with 2 Axes>"
      ]
     },
     "metadata": {
      "needs_background": "light"
     },
     "output_type": "display_data"
    }
   ],
   "source": [
    "#Comparing the target variable across Education_type\n",
    "plt.figure(figsize=[15,5])\n",
    "\n",
    "plt.figure(1)\n",
    "plt.subplot(1,2,1)\n",
    "T1.NAME_EDUCATION_TYPE.value_counts().plot.bar()\n",
    "plt.xlabel(\"NAME_EDUCATION_TYPE\")\n",
    "plt.ylabel(\"COUNT\")\n",
    "plt.title(\"T1 across Education_type\")\n",
    "\n",
    "plt.subplot(1,2,2)\n",
    "T0.NAME_EDUCATION_TYPE.value_counts().plot.bar()\n",
    "plt.xlabel(\"NAME_EDUCATION_TYPE\")\n",
    "plt.ylabel(\"COUNT\")\n",
    "plt.title(\"T0 across Education_type\")\n",
    "plt.show()\n"
   ]
  },
  {
   "cell_type": "code",
   "execution_count": 33,
   "metadata": {},
   "outputs": [
    {
     "data": {
      "image/png": "[encoded data removed]",
      "text/plain": [
       "<Figure size 1080x360 with 2 Axes>"
      ]
     },
     "metadata": {
      "needs_background": "light"
     },
     "output_type": "display_data"
    }
   ],
   "source": [
    "#Comparing the target variable across Income_type\n",
    "plt.figure(figsize=[15,5])\n",
    "\n",
    "plt.figure(1)\n",
    "plt.subplot(1,2,1)\n",
    "T1.NAME_INCOME_TYPE.value_counts().plot.bar()\n",
    "plt.xlabel(\"Income_type\")\n",
    "plt.ylabel(\"Count\")\n",
    "plt.title(\"T1 across Income_type\")\n",
    "\n",
    "plt.subplot(1,2,2)\n",
    "T0.NAME_INCOME_TYPE.value_counts().plot.bar()\n",
    "plt.xlabel(\"Income_type\")\n",
    "plt.ylabel(\"Count\")\n",
    "plt.title(\"T0 across Income_type\")\n",
    "plt.show()"
   ]
  },
  {
   "cell_type": "code",
   "execution_count": 34,
   "metadata": {},
   "outputs": [
    {
     "name": "stdout",
     "output_type": "stream",
     "text": [
      "25650.0\n",
      "112500.0\n",
      "135000.0\n",
      "189000.0\n",
      "337500.0\n"
     ]
    }
   ],
   "source": [
    "#Printing the required Analysis\n",
    "print(application_data.AMT_INCOME_TOTAL.min())\n",
    "print(application_data.AMT_INCOME_TOTAL.quantile(0.25))\n",
    "print(application_data.AMT_INCOME_TOTAL.quantile(0.50))\n",
    "print(application_data.AMT_INCOME_TOTAL.quantile(0.75))\n",
    "print(application_data.AMT_INCOME_TOTAL.max())"
   ]
  },
  {
   "cell_type": "markdown",
   "metadata": {},
   "source": [
    "### Here Divinding the Income_Total into bins\n",
    "#### 25650 - 112500 as Low\n",
    "#### 112500 - 147150 as Moderate\n",
    "#### 147150 - 202500 as High\n",
    "#### 202500 - 117000000 as Very High"
   ]
  },
  {
   "cell_type": "code",
   "execution_count": 35,
   "metadata": {
    "scrolled": true
   },
   "outputs": [
    {
     "data": {
      "image/png": "[encoded data removed]",
      "text/plain": [
       "<Figure size 1080x360 with 2 Axes>"
      ]
     },
     "metadata": {},
     "output_type": "display_data"
    }
   ],
   "source": [
    "#Determining Bins for Target 1 and Target 2 across Income_Total and Subplotting it by using Pie\n",
    "bins = [25650, 112500, 147150, 202500, 117000000]\n",
    "labels = ['Low','Moderate','High','Very High']\n",
    "\n",
    "plt.figure(figsize=[15,5])\n",
    "plt.figure(1)\n",
    "plt.subplot(1,2,1)\n",
    "T1['binned'] = pd.cut(T1.AMT_INCOME_TOTAL, bins=bins, labels=labels)\n",
    "T1.binned.value_counts().plot.pie(autopct='%1.0f%%')\n",
    "plt.title(\"T1 across Income_Total\")\n",
    "\n",
    "plt.subplot(1,2,2)\n",
    "T0['binned'] = pd.cut(T0.AMT_INCOME_TOTAL, bins=bins, labels=labels)\n",
    "T0.binned.value_counts().plot.pie(autopct='%1.0f%%')\n",
    "plt.title(\"T0 across Income_Total\")\n",
    "plt.show()\n"
   ]
  },
  {
   "cell_type": "markdown",
   "metadata": {},
   "source": [
    "### In both the cases the Income_total ranging from 25650 to 112500 has the maximum probability"
   ]
  },
  {
   "cell_type": "code",
   "execution_count": 36,
   "metadata": {},
   "outputs": [
    {
     "name": "stdout",
     "output_type": "stream",
     "text": [
      "45000.0\n",
      "270000.0\n",
      "495000.0\n",
      "780363.0\n",
      "2254500.0\n"
     ]
    }
   ],
   "source": [
    "#Printing the required Analysis\n",
    "print(application_data.AMT_CREDIT.min())\n",
    "print(application_data.AMT_CREDIT.quantile(0.25))\n",
    "print(application_data.AMT_CREDIT.quantile(0.50))\n",
    "print(application_data.AMT_CREDIT.quantile(0.75))\n",
    "print(application_data.AMT_CREDIT.max())"
   ]
  },
  {
   "cell_type": "code",
   "execution_count": 37,
   "metadata": {},
   "outputs": [
    {
     "data": {
      "image/png": "[encoded data removed]",
      "text/plain": [
       "<Figure size 1080x360 with 2 Axes>"
      ]
     },
     "metadata": {
      "needs_background": "light"
     },
     "output_type": "display_data"
    }
   ],
   "source": [
    "#Determining Bins and Subplotting it by using Pie\n",
    "bins = [45000, 270000, 513531, 808650, 4050000]\n",
    "labels = ['Low','Moderate','High','Very High']\n",
    "\n",
    "plt.figure(figsize=[15,5])\n",
    "plt.figure(1)\n",
    "plt.subplot(1,2,1)\n",
    "T1['bin'] = pd.cut(T1.AMT_CREDIT, bins=bins, labels=labels)\n",
    "T1.binned.value_counts().plot.bar()\n",
    "plt.xlabel(\"AMT_CREDIT BINS\")\n",
    "plt.ylabel(\"Count\")\n",
    "plt.title(\"T1 across CREDIT_AMT\")\n",
    "\n",
    "plt.figure(1)\n",
    "plt.subplot(1,2,2)\n",
    "T0['bin'] = pd.cut(T0.AMT_CREDIT, bins=bins, labels=labels)\n",
    "T0.binned.value_counts().plot.bar()\n",
    "plt.xlabel(\"AMT_CREDIT BINS\")\n",
    "plt.ylabel(\"Count\")\n",
    "plt.title(\"T0 across CREDIT_AMT\")\n",
    "plt.show()\n"
   ]
  },
  {
   "cell_type": "code",
   "execution_count": 38,
   "metadata": {},
   "outputs": [
    {
     "data": {
      "image/png": "[encoded data removed]",
      "text/plain": [
       "<Figure size 1080x360 with 2 Axes>"
      ]
     },
     "metadata": {
      "needs_background": "light"
     },
     "output_type": "display_data"
    }
   ],
   "source": [
    "#Comparing the target variable across OCCUPATION\n",
    "plt.figure(figsize=[15,5])\n",
    "\n",
    "plt.figure(1)\n",
    "plt.subplot(1,2,1)\n",
    "T1.OCCUPATION_TYPE.value_counts().plot.bar()\n",
    "plt.xlabel(\"OCCUPATION\")\n",
    "plt.ylabel(\"Count\")\n",
    "plt.title(\"T1 across OCCUPATION\")\n",
    "\n",
    "plt.subplot(1,2,2)\n",
    "T0.OCCUPATION_TYPE.value_counts().plot.bar()\n",
    "plt.xlabel(\"OCCUPATION\")\n",
    "plt.ylabel(\"Count\")\n",
    "plt.title(\"T0 across OCCUPATION\")\n",
    "plt.show()"
   ]
  },
  {
   "cell_type": "code",
   "execution_count": 39,
   "metadata": {},
   "outputs": [
    {
     "data": {
      "image/png": "[encoded data removed]",
      "text/plain": [
       "<Figure size 432x288 with 2 Axes>"
      ]
     },
     "metadata": {},
     "output_type": "display_data"
    }
   ],
   "source": [
    "#Comparing the target variable across OWNS_REALTY\n",
    "plt.figure(1)\n",
    "plt.subplot(1,2,1)\n",
    "T1.FLAG_OWN_REALTY.value_counts().plot.pie(autopct='%1.0f%%')\n",
    "plt.title(\"T1 across Owns Realty\")\n",
    "\n",
    "plt.subplot(1,2,2)\n",
    "T0.FLAG_OWN_REALTY.value_counts().plot.pie(autopct='%1.0f%%')\n",
    "plt.title(\"T1 across Owns Realty\")\n",
    "plt.show()"
   ]
  },
  {
   "cell_type": "markdown",
   "metadata": {},
   "source": [
    "## Bivariate Analysis"
   ]
  },
  {
   "cell_type": "code",
   "execution_count": 40,
   "metadata": {},
   "outputs": [
    {
     "data": {
      "text/plain": [
       "<Figure size 432x288 with 0 Axes>"
      ]
     },
     "metadata": {},
     "output_type": "display_data"
    },
    {
     "data": {
      "image/png": "[encoded data removed]",
      "text/plain": [
       "<Figure size 1080x360 with 2 Axes>"
      ]
     },
     "metadata": {
      "needs_background": "light"
     },
     "output_type": "display_data"
    }
   ],
   "source": [
    "#Comparing How much credit_amount of loan is availed by client according to Income for Target 0 and Target 1\n",
    "plt.figure(1)\n",
    "plt.figure(figsize=[15,5])\n",
    "plt.subplot(1,2,1)\n",
    "sns.boxplot(x='binned',y='AMT_CREDIT',data=T1)\n",
    "plt.xlabel(\"Income_Total bins\")\n",
    "plt.ylabel(\"Credit_Amount\")\n",
    "plt.title(\"Credit amount for Target1\")\n",
    "\n",
    "plt.subplot(1,2,2)\n",
    "sns.boxplot(x='binned',y='AMT_CREDIT',data=T0)\n",
    "plt.xlabel(\"Income_Total bins\")\n",
    "plt.ylabel(\"Credit_Amount\")\n",
    "plt.title(\"Credit amount for Target0\")\n",
    "plt.show()"
   ]
  },
  {
   "cell_type": "code",
   "execution_count": 41,
   "metadata": {},
   "outputs": [
    {
     "data": {
      "text/html": [
       "<div>\n",
       "<style scoped>\n",
       "    .dataframe tbody tr th:only-of-type {\n",
       "        vertical-align: middle;\n",
       "    }\n",
       "\n",
       "    .dataframe tbody tr th {\n",
       "        vertical-align: top;\n",
       "    }\n",
       "\n",
       "    .dataframe thead th {\n",
       "        text-align: right;\n",
       "    }\n",
       "</style>\n",
       "<table border=\"1\" class=\"dataframe\">\n",
       "  <thead>\n",
       "    <tr style=\"text-align: right;\">\n",
       "      <th></th>\n",
       "      <th>AMT_INCOME_TOTAL</th>\n",
       "      <th>AMT_CREDIT</th>\n",
       "      <th>AMT_ANNUITY</th>\n",
       "      <th>DAYS_BIRTH</th>\n",
       "      <th>DAYS_EMPLOYED</th>\n",
       "      <th>DAYS_ID_PUBLISH</th>\n",
       "      <th>OBS_30_CNT_SOCIAL_CIRCLE</th>\n",
       "      <th>DEF_30_CNT_SOCIAL_CIRCLE</th>\n",
       "      <th>DEF_60_CNT_SOCIAL_CIRCLE</th>\n",
       "      <th>OBS_60_CNT_SOCIAL_CIRCLE</th>\n",
       "    </tr>\n",
       "  </thead>\n",
       "  <tbody>\n",
       "    <tr>\n",
       "      <td>AMT_INCOME_TOTAL</td>\n",
       "      <td>1.000000</td>\n",
       "      <td>0.354871</td>\n",
       "      <td>0.426689</td>\n",
       "      <td>0.094771</td>\n",
       "      <td>-0.184353</td>\n",
       "      <td>0.034168</td>\n",
       "      <td>-0.014853</td>\n",
       "      <td>-0.023672</td>\n",
       "      <td>-0.024776</td>\n",
       "      <td>-0.014696</td>\n",
       "    </tr>\n",
       "    <tr>\n",
       "      <td>AMT_CREDIT</td>\n",
       "      <td>0.354871</td>\n",
       "      <td>1.000000</td>\n",
       "      <td>0.783605</td>\n",
       "      <td>-0.051435</td>\n",
       "      <td>-0.064544</td>\n",
       "      <td>-0.003304</td>\n",
       "      <td>0.008453</td>\n",
       "      <td>-0.013657</td>\n",
       "      <td>-0.016318</td>\n",
       "      <td>0.008473</td>\n",
       "    </tr>\n",
       "    <tr>\n",
       "      <td>AMT_ANNUITY</td>\n",
       "      <td>0.426689</td>\n",
       "      <td>0.783605</td>\n",
       "      <td>1.000000</td>\n",
       "      <td>0.015274</td>\n",
       "      <td>-0.106882</td>\n",
       "      <td>0.017239</td>\n",
       "      <td>0.000191</td>\n",
       "      <td>-0.013243</td>\n",
       "      <td>-0.015138</td>\n",
       "      <td>0.000430</td>\n",
       "    </tr>\n",
       "    <tr>\n",
       "      <td>DAYS_BIRTH</td>\n",
       "      <td>0.094771</td>\n",
       "      <td>-0.051435</td>\n",
       "      <td>0.015274</td>\n",
       "      <td>1.000000</td>\n",
       "      <td>-0.626825</td>\n",
       "      <td>0.284188</td>\n",
       "      <td>0.008512</td>\n",
       "      <td>-0.002931</td>\n",
       "      <td>-0.000915</td>\n",
       "      <td>0.008107</td>\n",
       "    </tr>\n",
       "    <tr>\n",
       "      <td>DAYS_EMPLOYED</td>\n",
       "      <td>-0.184353</td>\n",
       "      <td>-0.064544</td>\n",
       "      <td>-0.106882</td>\n",
       "      <td>-0.626825</td>\n",
       "      <td>1.000000</td>\n",
       "      <td>-0.282467</td>\n",
       "      <td>0.005129</td>\n",
       "      <td>0.018414</td>\n",
       "      <td>0.015514</td>\n",
       "      <td>0.005330</td>\n",
       "    </tr>\n",
       "    <tr>\n",
       "      <td>DAYS_ID_PUBLISH</td>\n",
       "      <td>0.034168</td>\n",
       "      <td>-0.003304</td>\n",
       "      <td>0.017239</td>\n",
       "      <td>0.284188</td>\n",
       "      <td>-0.282467</td>\n",
       "      <td>1.000000</td>\n",
       "      <td>-0.012152</td>\n",
       "      <td>-0.000027</td>\n",
       "      <td>0.002084</td>\n",
       "      <td>-0.012667</td>\n",
       "    </tr>\n",
       "    <tr>\n",
       "      <td>OBS_30_CNT_SOCIAL_CIRCLE</td>\n",
       "      <td>-0.014853</td>\n",
       "      <td>0.008453</td>\n",
       "      <td>0.000191</td>\n",
       "      <td>0.008512</td>\n",
       "      <td>0.005129</td>\n",
       "      <td>-0.012152</td>\n",
       "      <td>1.000000</td>\n",
       "      <td>0.330160</td>\n",
       "      <td>0.253908</td>\n",
       "      <td>0.998509</td>\n",
       "    </tr>\n",
       "    <tr>\n",
       "      <td>DEF_30_CNT_SOCIAL_CIRCLE</td>\n",
       "      <td>-0.023672</td>\n",
       "      <td>-0.013657</td>\n",
       "      <td>-0.013243</td>\n",
       "      <td>-0.002931</td>\n",
       "      <td>0.018414</td>\n",
       "      <td>-0.000027</td>\n",
       "      <td>0.330160</td>\n",
       "      <td>1.000000</td>\n",
       "      <td>0.860427</td>\n",
       "      <td>0.332309</td>\n",
       "    </tr>\n",
       "    <tr>\n",
       "      <td>DEF_60_CNT_SOCIAL_CIRCLE</td>\n",
       "      <td>-0.024776</td>\n",
       "      <td>-0.016318</td>\n",
       "      <td>-0.015138</td>\n",
       "      <td>-0.000915</td>\n",
       "      <td>0.015514</td>\n",
       "      <td>0.002084</td>\n",
       "      <td>0.253908</td>\n",
       "      <td>0.860427</td>\n",
       "      <td>1.000000</td>\n",
       "      <td>0.255919</td>\n",
       "    </tr>\n",
       "    <tr>\n",
       "      <td>OBS_60_CNT_SOCIAL_CIRCLE</td>\n",
       "      <td>-0.014696</td>\n",
       "      <td>0.008473</td>\n",
       "      <td>0.000430</td>\n",
       "      <td>0.008107</td>\n",
       "      <td>0.005330</td>\n",
       "      <td>-0.012667</td>\n",
       "      <td>0.998509</td>\n",
       "      <td>0.332309</td>\n",
       "      <td>0.255919</td>\n",
       "      <td>1.000000</td>\n",
       "    </tr>\n",
       "  </tbody>\n",
       "</table>\n",
       "</div>"
      ],
      "text/plain": [
       "                          AMT_INCOME_TOTAL  AMT_CREDIT  AMT_ANNUITY  \\\n",
       "AMT_INCOME_TOTAL                  1.000000    0.354871     0.426689   \n",
       "AMT_CREDIT                        0.354871    1.000000     0.783605   \n",
       "AMT_ANNUITY                       0.426689    0.783605     1.000000   \n",
       "DAYS_BIRTH                        0.094771   -0.051435     0.015274   \n",
       "DAYS_EMPLOYED                    -0.184353   -0.064544    -0.106882   \n",
       "DAYS_ID_PUBLISH                   0.034168   -0.003304     0.017239   \n",
       "OBS_30_CNT_SOCIAL_CIRCLE         -0.014853    0.008453     0.000191   \n",
       "DEF_30_CNT_SOCIAL_CIRCLE         -0.023672   -0.013657    -0.013243   \n",
       "DEF_60_CNT_SOCIAL_CIRCLE         -0.024776   -0.016318    -0.015138   \n",
       "OBS_60_CNT_SOCIAL_CIRCLE         -0.014696    0.008473     0.000430   \n",
       "\n",
       "                          DAYS_BIRTH  DAYS_EMPLOYED  DAYS_ID_PUBLISH  \\\n",
       "AMT_INCOME_TOTAL            0.094771      -0.184353         0.034168   \n",
       "AMT_CREDIT                 -0.051435      -0.064544        -0.003304   \n",
       "AMT_ANNUITY                 0.015274      -0.106882         0.017239   \n",
       "DAYS_BIRTH                  1.000000      -0.626825         0.284188   \n",
       "DAYS_EMPLOYED              -0.626825       1.000000        -0.282467   \n",
       "DAYS_ID_PUBLISH             0.284188      -0.282467         1.000000   \n",
       "OBS_30_CNT_SOCIAL_CIRCLE    0.008512       0.005129        -0.012152   \n",
       "DEF_30_CNT_SOCIAL_CIRCLE   -0.002931       0.018414        -0.000027   \n",
       "DEF_60_CNT_SOCIAL_CIRCLE   -0.000915       0.015514         0.002084   \n",
       "OBS_60_CNT_SOCIAL_CIRCLE    0.008107       0.005330        -0.012667   \n",
       "\n",
       "                          OBS_30_CNT_SOCIAL_CIRCLE  DEF_30_CNT_SOCIAL_CIRCLE  \\\n",
       "AMT_INCOME_TOTAL                         -0.014853                 -0.023672   \n",
       "AMT_CREDIT                                0.008453                 -0.013657   \n",
       "AMT_ANNUITY                               0.000191                 -0.013243   \n",
       "DAYS_BIRTH                                0.008512                 -0.002931   \n",
       "DAYS_EMPLOYED                             0.005129                  0.018414   \n",
       "DAYS_ID_PUBLISH                          -0.012152                 -0.000027   \n",
       "OBS_30_CNT_SOCIAL_CIRCLE                  1.000000                  0.330160   \n",
       "DEF_30_CNT_SOCIAL_CIRCLE                  0.330160                  1.000000   \n",
       "DEF_60_CNT_SOCIAL_CIRCLE                  0.253908                  0.860427   \n",
       "OBS_60_CNT_SOCIAL_CIRCLE                  0.998509                  0.332309   \n",
       "\n",
       "                          DEF_60_CNT_SOCIAL_CIRCLE  OBS_60_CNT_SOCIAL_CIRCLE  \n",
       "AMT_INCOME_TOTAL                         -0.024776                 -0.014696  \n",
       "AMT_CREDIT                               -0.016318                  0.008473  \n",
       "AMT_ANNUITY                              -0.015138                  0.000430  \n",
       "DAYS_BIRTH                               -0.000915                  0.008107  \n",
       "DAYS_EMPLOYED                             0.015514                  0.005330  \n",
       "DAYS_ID_PUBLISH                           0.002084                 -0.012667  \n",
       "OBS_30_CNT_SOCIAL_CIRCLE                  0.253908                  0.998509  \n",
       "DEF_30_CNT_SOCIAL_CIRCLE                  0.860427                  0.332309  \n",
       "DEF_60_CNT_SOCIAL_CIRCLE                  1.000000                  0.255919  \n",
       "OBS_60_CNT_SOCIAL_CIRCLE                  0.255919                  1.000000  "
      ]
     },
     "execution_count": 41,
     "metadata": {},
     "output_type": "execute_result"
    }
   ],
   "source": [
    "#Determining Target 1 and Target 0 Columns\n",
    "curr=T1[['AMT_INCOME_TOTAL','AMT_CREDIT','AMT_ANNUITY','DAYS_BIRTH','DAYS_EMPLOYED','DAYS_ID_PUBLISH'\n",
    "        ,'OBS_30_CNT_SOCIAL_CIRCLE','DEF_30_CNT_SOCIAL_CIRCLE','DEF_60_CNT_SOCIAL_CIRCLE','OBS_60_CNT_SOCIAL_CIRCLE']]\n",
    "cor=curr.corr()\n",
    "cor\n",
    "curr1=T0[['AMT_INCOME_TOTAL','AMT_CREDIT','AMT_ANNUITY','DAYS_BIRTH','DAYS_EMPLOYED','DAYS_ID_PUBLISH'\n",
    "        ,'OBS_30_CNT_SOCIAL_CIRCLE','DEF_30_CNT_SOCIAL_CIRCLE','DEF_60_CNT_SOCIAL_CIRCLE','OBS_60_CNT_SOCIAL_CIRCLE']]\n",
    "cor1=curr1.corr()\n",
    "cor1"
   ]
  },
  {
   "cell_type": "code",
   "execution_count": 42,
   "metadata": {},
   "outputs": [
    {
     "data": {
      "image/png": "[encoded data removed]",
      "text/plain": [
       "<Figure size 1440x432 with 4 Axes>"
      ]
     },
     "metadata": {
      "needs_background": "light"
     },
     "output_type": "display_data"
    }
   ],
   "source": [
    "#Correlation for Target 1 and Target 0 Matrix\n",
    "plt.figure(figsize=[20,6])\n",
    "plt.figure(1)\n",
    "plt.subplot(1,2,1)\n",
    "sns.heatmap(cor,square=True, cmap=\"YlGnBu\", \n",
    "        linewidths=0.1, annot=True, annot_kws={\"size\":8})\n",
    "plt.title(\"T1 correlation matrix\")\n",
    "\n",
    "plt.subplot(1,2,2)\n",
    "sns.heatmap(cor1,square=True, cmap=\"YlGnBu\", \n",
    "        linewidths=0.1, annot=True, annot_kws={\"size\":8})\n",
    "plt.title(\"T0 correlation matrix\")\n",
    "plt.show()"
   ]
  },
  {
   "cell_type": "markdown",
   "metadata": {},
   "source": [
    "### Correlation for numerical columns of both Target1 and Target 0 are almost the same"
   ]
  },
  {
   "cell_type": "markdown",
   "metadata": {},
   "source": [
    "## Reading the previous_application.csv"
   ]
  },
  {
   "cell_type": "code",
   "execution_count": 43,
   "metadata": {},
   "outputs": [
    {
     "data": {
      "text/html": [
       "<div>\n",
       "<style scoped>\n",
       "    .dataframe tbody tr th:only-of-type {\n",
       "        vertical-align: middle;\n",
       "    }\n",
       "\n",
       "    .dataframe tbody tr th {\n",
       "        vertical-align: top;\n",
       "    }\n",
       "\n",
       "    .dataframe thead th {\n",
       "        text-align: right;\n",
       "    }\n",
       "</style>\n",
       "<table border=\"1\" class=\"dataframe\">\n",
       "  <thead>\n",
       "    <tr style=\"text-align: right;\">\n",
       "      <th></th>\n",
       "      <th>SK_ID_PREV</th>\n",
       "      <th>SK_ID_CURR</th>\n",
       "      <th>NAME_CONTRACT_TYPE</th>\n",
       "      <th>AMT_ANNUITY</th>\n",
       "      <th>AMT_APPLICATION</th>\n",
       "      <th>AMT_CREDIT</th>\n",
       "      <th>AMT_DOWN_PAYMENT</th>\n",
       "      <th>AMT_GOODS_PRICE</th>\n",
       "      <th>WEEKDAY_APPR_PROCESS_START</th>\n",
       "      <th>HOUR_APPR_PROCESS_START</th>\n",
       "      <th>...</th>\n",
       "      <th>NAME_SELLER_INDUSTRY</th>\n",
       "      <th>CNT_PAYMENT</th>\n",
       "      <th>NAME_YIELD_GROUP</th>\n",
       "      <th>PRODUCT_COMBINATION</th>\n",
       "      <th>DAYS_FIRST_DRAWING</th>\n",
       "      <th>DAYS_FIRST_DUE</th>\n",
       "      <th>DAYS_LAST_DUE_1ST_VERSION</th>\n",
       "      <th>DAYS_LAST_DUE</th>\n",
       "      <th>DAYS_TERMINATION</th>\n",
       "      <th>NFLAG_INSURED_ON_APPROVAL</th>\n",
       "    </tr>\n",
       "  </thead>\n",
       "  <tbody>\n",
       "    <tr>\n",
       "      <td>0</td>\n",
       "      <td>2030495</td>\n",
       "      <td>271877</td>\n",
       "      <td>Consumer loans</td>\n",
       "      <td>1730.430</td>\n",
       "      <td>17145.0</td>\n",
       "      <td>17145.0</td>\n",
       "      <td>0.0</td>\n",
       "      <td>17145.0</td>\n",
       "      <td>SATURDAY</td>\n",
       "      <td>15</td>\n",
       "      <td>...</td>\n",
       "      <td>Connectivity</td>\n",
       "      <td>12.0</td>\n",
       "      <td>middle</td>\n",
       "      <td>POS mobile with interest</td>\n",
       "      <td>365243.0</td>\n",
       "      <td>-42.0</td>\n",
       "      <td>300.0</td>\n",
       "      <td>-42.0</td>\n",
       "      <td>-37.0</td>\n",
       "      <td>0.0</td>\n",
       "    </tr>\n",
       "    <tr>\n",
       "      <td>1</td>\n",
       "      <td>2802425</td>\n",
       "      <td>108129</td>\n",
       "      <td>Cash loans</td>\n",
       "      <td>25188.615</td>\n",
       "      <td>607500.0</td>\n",
       "      <td>679671.0</td>\n",
       "      <td>NaN</td>\n",
       "      <td>607500.0</td>\n",
       "      <td>THURSDAY</td>\n",
       "      <td>11</td>\n",
       "      <td>...</td>\n",
       "      <td>XNA</td>\n",
       "      <td>36.0</td>\n",
       "      <td>low_action</td>\n",
       "      <td>Cash X-Sell: low</td>\n",
       "      <td>365243.0</td>\n",
       "      <td>-134.0</td>\n",
       "      <td>916.0</td>\n",
       "      <td>365243.0</td>\n",
       "      <td>365243.0</td>\n",
       "      <td>1.0</td>\n",
       "    </tr>\n",
       "    <tr>\n",
       "      <td>2</td>\n",
       "      <td>2523466</td>\n",
       "      <td>122040</td>\n",
       "      <td>Cash loans</td>\n",
       "      <td>15060.735</td>\n",
       "      <td>112500.0</td>\n",
       "      <td>136444.5</td>\n",
       "      <td>NaN</td>\n",
       "      <td>112500.0</td>\n",
       "      <td>TUESDAY</td>\n",
       "      <td>11</td>\n",
       "      <td>...</td>\n",
       "      <td>XNA</td>\n",
       "      <td>12.0</td>\n",
       "      <td>high</td>\n",
       "      <td>Cash X-Sell: high</td>\n",
       "      <td>365243.0</td>\n",
       "      <td>-271.0</td>\n",
       "      <td>59.0</td>\n",
       "      <td>365243.0</td>\n",
       "      <td>365243.0</td>\n",
       "      <td>1.0</td>\n",
       "    </tr>\n",
       "    <tr>\n",
       "      <td>3</td>\n",
       "      <td>2819243</td>\n",
       "      <td>176158</td>\n",
       "      <td>Cash loans</td>\n",
       "      <td>47041.335</td>\n",
       "      <td>450000.0</td>\n",
       "      <td>470790.0</td>\n",
       "      <td>NaN</td>\n",
       "      <td>450000.0</td>\n",
       "      <td>MONDAY</td>\n",
       "      <td>7</td>\n",
       "      <td>...</td>\n",
       "      <td>XNA</td>\n",
       "      <td>12.0</td>\n",
       "      <td>middle</td>\n",
       "      <td>Cash X-Sell: middle</td>\n",
       "      <td>365243.0</td>\n",
       "      <td>-482.0</td>\n",
       "      <td>-152.0</td>\n",
       "      <td>-182.0</td>\n",
       "      <td>-177.0</td>\n",
       "      <td>1.0</td>\n",
       "    </tr>\n",
       "    <tr>\n",
       "      <td>4</td>\n",
       "      <td>1784265</td>\n",
       "      <td>202054</td>\n",
       "      <td>Cash loans</td>\n",
       "      <td>31924.395</td>\n",
       "      <td>337500.0</td>\n",
       "      <td>404055.0</td>\n",
       "      <td>NaN</td>\n",
       "      <td>337500.0</td>\n",
       "      <td>THURSDAY</td>\n",
       "      <td>9</td>\n",
       "      <td>...</td>\n",
       "      <td>XNA</td>\n",
       "      <td>24.0</td>\n",
       "      <td>high</td>\n",
       "      <td>Cash Street: high</td>\n",
       "      <td>NaN</td>\n",
       "      <td>NaN</td>\n",
       "      <td>NaN</td>\n",
       "      <td>NaN</td>\n",
       "      <td>NaN</td>\n",
       "      <td>NaN</td>\n",
       "    </tr>\n",
       "  </tbody>\n",
       "</table>\n",
       "<p>5 rows × 37 columns</p>\n",
       "</div>"
      ],
      "text/plain": [
       "   SK_ID_PREV  SK_ID_CURR NAME_CONTRACT_TYPE  AMT_ANNUITY  AMT_APPLICATION  \\\n",
       "0     2030495      271877     Consumer loans     1730.430          17145.0   \n",
       "1     2802425      108129         Cash loans    25188.615         607500.0   \n",
       "2     2523466      122040         Cash loans    15060.735         112500.0   \n",
       "3     2819243      176158         Cash loans    47041.335         450000.0   \n",
       "4     1784265      202054         Cash loans    31924.395         337500.0   \n",
       "\n",
       "   AMT_CREDIT  AMT_DOWN_PAYMENT  AMT_GOODS_PRICE WEEKDAY_APPR_PROCESS_START  \\\n",
       "0     17145.0               0.0          17145.0                   SATURDAY   \n",
       "1    679671.0               NaN         607500.0                   THURSDAY   \n",
       "2    136444.5               NaN         112500.0                    TUESDAY   \n",
       "3    470790.0               NaN         450000.0                     MONDAY   \n",
       "4    404055.0               NaN         337500.0                   THURSDAY   \n",
       "\n",
       "   HOUR_APPR_PROCESS_START  ... NAME_SELLER_INDUSTRY  CNT_PAYMENT  \\\n",
       "0                       15  ...         Connectivity         12.0   \n",
       "1                       11  ...                  XNA         36.0   \n",
       "2                       11  ...                  XNA         12.0   \n",
       "3                        7  ...                  XNA         12.0   \n",
       "4                        9  ...                  XNA         24.0   \n",
       "\n",
       "   NAME_YIELD_GROUP       PRODUCT_COMBINATION  DAYS_FIRST_DRAWING  \\\n",
       "0            middle  POS mobile with interest            365243.0   \n",
       "1        low_action          Cash X-Sell: low            365243.0   \n",
       "2              high         Cash X-Sell: high            365243.0   \n",
       "3            middle       Cash X-Sell: middle            365243.0   \n",
       "4              high         Cash Street: high                 NaN   \n",
       "\n",
       "  DAYS_FIRST_DUE DAYS_LAST_DUE_1ST_VERSION  DAYS_LAST_DUE DAYS_TERMINATION  \\\n",
       "0          -42.0                     300.0          -42.0            -37.0   \n",
       "1         -134.0                     916.0       365243.0         365243.0   \n",
       "2         -271.0                      59.0       365243.0         365243.0   \n",
       "3         -482.0                    -152.0         -182.0           -177.0   \n",
       "4            NaN                       NaN            NaN              NaN   \n",
       "\n",
       "  NFLAG_INSURED_ON_APPROVAL  \n",
       "0                       0.0  \n",
       "1                       1.0  \n",
       "2                       1.0  \n",
       "3                       1.0  \n",
       "4                       NaN  \n",
       "\n",
       "[5 rows x 37 columns]"
      ]
     },
     "execution_count": 43,
     "metadata": {},
     "output_type": "execute_result"
    }
   ],
   "source": [
    "#Reading the Previous Data\n",
    "prev_app=pd.read_csv(\"previous_application.csv\")\n",
    "prev_app.head()"
   ]
  },
  {
   "cell_type": "code",
   "execution_count": 44,
   "metadata": {},
   "outputs": [
    {
     "data": {
      "text/html": [
       "<div>\n",
       "<style scoped>\n",
       "    .dataframe tbody tr th:only-of-type {\n",
       "        vertical-align: middle;\n",
       "    }\n",
       "\n",
       "    .dataframe tbody tr th {\n",
       "        vertical-align: top;\n",
       "    }\n",
       "\n",
       "    .dataframe thead th {\n",
       "        text-align: right;\n",
       "    }\n",
       "</style>\n",
       "<table border=\"1\" class=\"dataframe\">\n",
       "  <thead>\n",
       "    <tr style=\"text-align: right;\">\n",
       "      <th></th>\n",
       "      <th>SK_ID_CURR</th>\n",
       "      <th>TARGET</th>\n",
       "      <th>NAME_CONTRACT_TYPE</th>\n",
       "      <th>CODE_GENDER</th>\n",
       "      <th>AMT_INCOME_TOTAL</th>\n",
       "      <th>AMT_CREDIT</th>\n",
       "      <th>AMT_ANNUITY</th>\n",
       "      <th>AMT_GOODS_PRICE</th>\n",
       "      <th>NAME_INCOME_TYPE</th>\n",
       "      <th>NAME_EDUCATION_TYPE</th>\n",
       "      <th>NAME_FAMILY_STATUS</th>\n",
       "      <th>OCCUPATION_TYPE</th>\n",
       "      <th>CNT_FAM_MEMBERS</th>\n",
       "      <th>ORGANIZATION_TYPE</th>\n",
       "      <th>DAYS_EMPLOYED</th>\n",
       "      <th>DAYS_BIRTH</th>\n",
       "    </tr>\n",
       "  </thead>\n",
       "  <tbody>\n",
       "    <tr>\n",
       "      <td>0</td>\n",
       "      <td>100002</td>\n",
       "      <td>1</td>\n",
       "      <td>Cash loans</td>\n",
       "      <td>M</td>\n",
       "      <td>202500.0</td>\n",
       "      <td>406597.5</td>\n",
       "      <td>24700.5</td>\n",
       "      <td>351000.0</td>\n",
       "      <td>Working</td>\n",
       "      <td>Secondary / secondary special</td>\n",
       "      <td>Single / not married</td>\n",
       "      <td>Laborers</td>\n",
       "      <td>1.0</td>\n",
       "      <td>Business Entity Type 3</td>\n",
       "      <td>-637</td>\n",
       "      <td>-9461</td>\n",
       "    </tr>\n",
       "    <tr>\n",
       "      <td>1</td>\n",
       "      <td>100003</td>\n",
       "      <td>0</td>\n",
       "      <td>Cash loans</td>\n",
       "      <td>F</td>\n",
       "      <td>270000.0</td>\n",
       "      <td>1293502.5</td>\n",
       "      <td>35698.5</td>\n",
       "      <td>1129500.0</td>\n",
       "      <td>State servant</td>\n",
       "      <td>Higher education</td>\n",
       "      <td>Married</td>\n",
       "      <td>Core staff</td>\n",
       "      <td>2.0</td>\n",
       "      <td>School</td>\n",
       "      <td>-1188</td>\n",
       "      <td>-16765</td>\n",
       "    </tr>\n",
       "    <tr>\n",
       "      <td>2</td>\n",
       "      <td>100004</td>\n",
       "      <td>0</td>\n",
       "      <td>Revolving loans</td>\n",
       "      <td>M</td>\n",
       "      <td>67500.0</td>\n",
       "      <td>135000.0</td>\n",
       "      <td>6750.0</td>\n",
       "      <td>135000.0</td>\n",
       "      <td>Working</td>\n",
       "      <td>Secondary / secondary special</td>\n",
       "      <td>Single / not married</td>\n",
       "      <td>Laborers</td>\n",
       "      <td>1.0</td>\n",
       "      <td>Government</td>\n",
       "      <td>-225</td>\n",
       "      <td>-19046</td>\n",
       "    </tr>\n",
       "    <tr>\n",
       "      <td>3</td>\n",
       "      <td>100006</td>\n",
       "      <td>0</td>\n",
       "      <td>Cash loans</td>\n",
       "      <td>F</td>\n",
       "      <td>135000.0</td>\n",
       "      <td>312682.5</td>\n",
       "      <td>29686.5</td>\n",
       "      <td>297000.0</td>\n",
       "      <td>Working</td>\n",
       "      <td>Secondary / secondary special</td>\n",
       "      <td>Civil marriage</td>\n",
       "      <td>Laborers</td>\n",
       "      <td>2.0</td>\n",
       "      <td>Business Entity Type 3</td>\n",
       "      <td>-3039</td>\n",
       "      <td>-19005</td>\n",
       "    </tr>\n",
       "    <tr>\n",
       "      <td>4</td>\n",
       "      <td>100007</td>\n",
       "      <td>0</td>\n",
       "      <td>Cash loans</td>\n",
       "      <td>M</td>\n",
       "      <td>121500.0</td>\n",
       "      <td>513000.0</td>\n",
       "      <td>21865.5</td>\n",
       "      <td>513000.0</td>\n",
       "      <td>Working</td>\n",
       "      <td>Secondary / secondary special</td>\n",
       "      <td>Single / not married</td>\n",
       "      <td>Core staff</td>\n",
       "      <td>1.0</td>\n",
       "      <td>Religion</td>\n",
       "      <td>-3038</td>\n",
       "      <td>-19932</td>\n",
       "    </tr>\n",
       "  </tbody>\n",
       "</table>\n",
       "</div>"
      ],
      "text/plain": [
       "   SK_ID_CURR  TARGET NAME_CONTRACT_TYPE CODE_GENDER  AMT_INCOME_TOTAL  \\\n",
       "0      100002       1         Cash loans           M          202500.0   \n",
       "1      100003       0         Cash loans           F          270000.0   \n",
       "2      100004       0    Revolving loans           M           67500.0   \n",
       "3      100006       0         Cash loans           F          135000.0   \n",
       "4      100007       0         Cash loans           M          121500.0   \n",
       "\n",
       "   AMT_CREDIT  AMT_ANNUITY  AMT_GOODS_PRICE NAME_INCOME_TYPE  \\\n",
       "0    406597.5      24700.5         351000.0          Working   \n",
       "1   1293502.5      35698.5        1129500.0    State servant   \n",
       "2    135000.0       6750.0         135000.0          Working   \n",
       "3    312682.5      29686.5         297000.0          Working   \n",
       "4    513000.0      21865.5         513000.0          Working   \n",
       "\n",
       "             NAME_EDUCATION_TYPE    NAME_FAMILY_STATUS OCCUPATION_TYPE  \\\n",
       "0  Secondary / secondary special  Single / not married        Laborers   \n",
       "1               Higher education               Married      Core staff   \n",
       "2  Secondary / secondary special  Single / not married        Laborers   \n",
       "3  Secondary / secondary special        Civil marriage        Laborers   \n",
       "4  Secondary / secondary special  Single / not married      Core staff   \n",
       "\n",
       "   CNT_FAM_MEMBERS       ORGANIZATION_TYPE  DAYS_EMPLOYED  DAYS_BIRTH  \n",
       "0              1.0  Business Entity Type 3           -637       -9461  \n",
       "1              2.0                  School          -1188      -16765  \n",
       "2              1.0              Government           -225      -19046  \n",
       "3              2.0  Business Entity Type 3          -3039      -19005  \n",
       "4              1.0                Religion          -3038      -19932  "
      ]
     },
     "execution_count": 44,
     "metadata": {},
     "output_type": "execute_result"
    }
   ],
   "source": [
    "#Subsetting the columns which are important for analysis\n",
    "\n",
    "application_subset=application_data[['SK_ID_CURR','TARGET','NAME_CONTRACT_TYPE','CODE_GENDER','AMT_INCOME_TOTAL','AMT_CREDIT',\n",
    "                                    'AMT_ANNUITY','AMT_GOODS_PRICE','NAME_INCOME_TYPE','NAME_EDUCATION_TYPE','NAME_FAMILY_STATUS',\n",
    "                                    'OCCUPATION_TYPE','CNT_FAM_MEMBERS','ORGANIZATION_TYPE','DAYS_EMPLOYED','DAYS_BIRTH' ]]\n",
    "application_subset.head()"
   ]
  },
  {
   "cell_type": "code",
   "execution_count": 45,
   "metadata": {},
   "outputs": [
    {
     "data": {
      "text/plain": [
       "(287214, 16)"
      ]
     },
     "execution_count": 45,
     "metadata": {},
     "output_type": "execute_result"
    }
   ],
   "source": [
    "application_subset.shape"
   ]
  },
  {
   "cell_type": "code",
   "execution_count": 46,
   "metadata": {},
   "outputs": [
    {
     "data": {
      "text/plain": [
       "(1670214, 37)"
      ]
     },
     "execution_count": 46,
     "metadata": {},
     "output_type": "execute_result"
    }
   ],
   "source": [
    "prev_app.shape"
   ]
  },
  {
   "cell_type": "code",
   "execution_count": 47,
   "metadata": {},
   "outputs": [
    {
     "data": {
      "text/plain": [
       "(1670214, 24)"
      ]
     },
     "execution_count": 47,
     "metadata": {},
     "output_type": "execute_result"
    }
   ],
   "source": [
    "prev_app_subset=prev_app[['SK_ID_PREV','NAME_CONTRACT_TYPE','AMT_ANNUITY','AMT_CREDIT','AMT_APPLICATION',\n",
    "                         'AMT_DOWN_PAYMENT','AMT_GOODS_PRICE','RATE_DOWN_PAYMENT','RATE_INTEREST_PRIMARY','RATE_INTEREST_PRIVILEGED',\n",
    "                         'NAME_CASH_LOAN_PURPOSE','NAME_CONTRACT_STATUS','DAYS_DECISION','NAME_PAYMENT_TYPE','CODE_REJECT_REASON','NAME_CLIENT_TYPE',\n",
    "                         'NAME_GOODS_CATEGORY','NAME_PORTFOLIO','NAME_PRODUCT_TYPE','CHANNEL_TYPE','CNT_PAYMENT','NAME_YIELD_GROUP',\n",
    "                         'PRODUCT_COMBINATION','NFLAG_INSURED_ON_APPROVAL']]\n",
    "prev_app_subset.shape"
   ]
  },
  {
   "cell_type": "code",
   "execution_count": 48,
   "metadata": {},
   "outputs": [],
   "source": [
    "prev_app_subset.columns = prev_app_subset.columns.map(lambda x: str(x) + '_prev')\n",
    "prev_app_subset.head()\n",
    "prev_app_subset['SK_ID_CURR']=prev_app['SK_ID_CURR']"
   ]
  },
  {
   "cell_type": "code",
   "execution_count": 49,
   "metadata": {},
   "outputs": [
    {
     "data": {
      "text/html": [
       "<div>\n",
       "<style scoped>\n",
       "    .dataframe tbody tr th:only-of-type {\n",
       "        vertical-align: middle;\n",
       "    }\n",
       "\n",
       "    .dataframe tbody tr th {\n",
       "        vertical-align: top;\n",
       "    }\n",
       "\n",
       "    .dataframe thead th {\n",
       "        text-align: right;\n",
       "    }\n",
       "</style>\n",
       "<table border=\"1\" class=\"dataframe\">\n",
       "  <thead>\n",
       "    <tr style=\"text-align: right;\">\n",
       "      <th></th>\n",
       "      <th>SK_ID_PREV_prev</th>\n",
       "      <th>NAME_CONTRACT_TYPE_prev</th>\n",
       "      <th>AMT_ANNUITY_prev</th>\n",
       "      <th>AMT_CREDIT_prev</th>\n",
       "      <th>AMT_APPLICATION_prev</th>\n",
       "      <th>AMT_DOWN_PAYMENT_prev</th>\n",
       "      <th>AMT_GOODS_PRICE_prev</th>\n",
       "      <th>RATE_DOWN_PAYMENT_prev</th>\n",
       "      <th>RATE_INTEREST_PRIMARY_prev</th>\n",
       "      <th>RATE_INTEREST_PRIVILEGED_prev</th>\n",
       "      <th>...</th>\n",
       "      <th>AMT_ANNUITY</th>\n",
       "      <th>AMT_GOODS_PRICE</th>\n",
       "      <th>NAME_INCOME_TYPE</th>\n",
       "      <th>NAME_EDUCATION_TYPE</th>\n",
       "      <th>NAME_FAMILY_STATUS</th>\n",
       "      <th>OCCUPATION_TYPE</th>\n",
       "      <th>CNT_FAM_MEMBERS</th>\n",
       "      <th>ORGANIZATION_TYPE</th>\n",
       "      <th>DAYS_EMPLOYED</th>\n",
       "      <th>DAYS_BIRTH</th>\n",
       "    </tr>\n",
       "  </thead>\n",
       "  <tbody>\n",
       "    <tr>\n",
       "      <td>0</td>\n",
       "      <td>2030495</td>\n",
       "      <td>Consumer loans</td>\n",
       "      <td>1730.430</td>\n",
       "      <td>17145.0</td>\n",
       "      <td>17145.0</td>\n",
       "      <td>0.0</td>\n",
       "      <td>17145.0</td>\n",
       "      <td>0.000000</td>\n",
       "      <td>0.182832</td>\n",
       "      <td>0.867336</td>\n",
       "      <td>...</td>\n",
       "      <td>25803.0</td>\n",
       "      <td>477000.0</td>\n",
       "      <td>State servant</td>\n",
       "      <td>Incomplete higher</td>\n",
       "      <td>Married</td>\n",
       "      <td>NaN</td>\n",
       "      <td>3.0</td>\n",
       "      <td>Military</td>\n",
       "      <td>-7392</td>\n",
       "      <td>-14443</td>\n",
       "    </tr>\n",
       "    <tr>\n",
       "      <td>1</td>\n",
       "      <td>1696966</td>\n",
       "      <td>Consumer loans</td>\n",
       "      <td>68258.655</td>\n",
       "      <td>1754721.0</td>\n",
       "      <td>1800000.0</td>\n",
       "      <td>180000.0</td>\n",
       "      <td>1800000.0</td>\n",
       "      <td>0.101325</td>\n",
       "      <td>NaN</td>\n",
       "      <td>NaN</td>\n",
       "      <td>...</td>\n",
       "      <td>25803.0</td>\n",
       "      <td>477000.0</td>\n",
       "      <td>State servant</td>\n",
       "      <td>Incomplete higher</td>\n",
       "      <td>Married</td>\n",
       "      <td>NaN</td>\n",
       "      <td>3.0</td>\n",
       "      <td>Military</td>\n",
       "      <td>-7392</td>\n",
       "      <td>-14443</td>\n",
       "    </tr>\n",
       "    <tr>\n",
       "      <td>2</td>\n",
       "      <td>2154916</td>\n",
       "      <td>Consumer loans</td>\n",
       "      <td>12417.390</td>\n",
       "      <td>119848.5</td>\n",
       "      <td>108400.5</td>\n",
       "      <td>0.0</td>\n",
       "      <td>108400.5</td>\n",
       "      <td>0.000000</td>\n",
       "      <td>NaN</td>\n",
       "      <td>NaN</td>\n",
       "      <td>...</td>\n",
       "      <td>25803.0</td>\n",
       "      <td>477000.0</td>\n",
       "      <td>State servant</td>\n",
       "      <td>Incomplete higher</td>\n",
       "      <td>Married</td>\n",
       "      <td>NaN</td>\n",
       "      <td>3.0</td>\n",
       "      <td>Military</td>\n",
       "      <td>-7392</td>\n",
       "      <td>-14443</td>\n",
       "    </tr>\n",
       "    <tr>\n",
       "      <td>3</td>\n",
       "      <td>2802425</td>\n",
       "      <td>Cash loans</td>\n",
       "      <td>25188.615</td>\n",
       "      <td>679671.0</td>\n",
       "      <td>607500.0</td>\n",
       "      <td>NaN</td>\n",
       "      <td>607500.0</td>\n",
       "      <td>NaN</td>\n",
       "      <td>NaN</td>\n",
       "      <td>NaN</td>\n",
       "      <td>...</td>\n",
       "      <td>6750.0</td>\n",
       "      <td>135000.0</td>\n",
       "      <td>Commercial associate</td>\n",
       "      <td>Secondary / secondary special</td>\n",
       "      <td>Civil marriage</td>\n",
       "      <td>Private service staff</td>\n",
       "      <td>2.0</td>\n",
       "      <td>Self-employed</td>\n",
       "      <td>-1255</td>\n",
       "      <td>-21335</td>\n",
       "    </tr>\n",
       "    <tr>\n",
       "      <td>4</td>\n",
       "      <td>1536272</td>\n",
       "      <td>Cash loans</td>\n",
       "      <td>21709.125</td>\n",
       "      <td>512370.0</td>\n",
       "      <td>450000.0</td>\n",
       "      <td>NaN</td>\n",
       "      <td>450000.0</td>\n",
       "      <td>NaN</td>\n",
       "      <td>NaN</td>\n",
       "      <td>NaN</td>\n",
       "      <td>...</td>\n",
       "      <td>6750.0</td>\n",
       "      <td>135000.0</td>\n",
       "      <td>Commercial associate</td>\n",
       "      <td>Secondary / secondary special</td>\n",
       "      <td>Civil marriage</td>\n",
       "      <td>Private service staff</td>\n",
       "      <td>2.0</td>\n",
       "      <td>Self-employed</td>\n",
       "      <td>-1255</td>\n",
       "      <td>-21335</td>\n",
       "    </tr>\n",
       "  </tbody>\n",
       "</table>\n",
       "<p>5 rows × 40 columns</p>\n",
       "</div>"
      ],
      "text/plain": [
       "   SK_ID_PREV_prev NAME_CONTRACT_TYPE_prev  AMT_ANNUITY_prev  AMT_CREDIT_prev  \\\n",
       "0          2030495          Consumer loans          1730.430          17145.0   \n",
       "1          1696966          Consumer loans         68258.655        1754721.0   \n",
       "2          2154916          Consumer loans         12417.390         119848.5   \n",
       "3          2802425              Cash loans         25188.615         679671.0   \n",
       "4          1536272              Cash loans         21709.125         512370.0   \n",
       "\n",
       "   AMT_APPLICATION_prev  AMT_DOWN_PAYMENT_prev  AMT_GOODS_PRICE_prev  \\\n",
       "0               17145.0                    0.0               17145.0   \n",
       "1             1800000.0               180000.0             1800000.0   \n",
       "2              108400.5                    0.0              108400.5   \n",
       "3              607500.0                    NaN              607500.0   \n",
       "4              450000.0                    NaN              450000.0   \n",
       "\n",
       "   RATE_DOWN_PAYMENT_prev  RATE_INTEREST_PRIMARY_prev  \\\n",
       "0                0.000000                    0.182832   \n",
       "1                0.101325                         NaN   \n",
       "2                0.000000                         NaN   \n",
       "3                     NaN                         NaN   \n",
       "4                     NaN                         NaN   \n",
       "\n",
       "   RATE_INTEREST_PRIVILEGED_prev  ... AMT_ANNUITY AMT_GOODS_PRICE  \\\n",
       "0                       0.867336  ...     25803.0        477000.0   \n",
       "1                            NaN  ...     25803.0        477000.0   \n",
       "2                            NaN  ...     25803.0        477000.0   \n",
       "3                            NaN  ...      6750.0        135000.0   \n",
       "4                            NaN  ...      6750.0        135000.0   \n",
       "\n",
       "       NAME_INCOME_TYPE            NAME_EDUCATION_TYPE NAME_FAMILY_STATUS  \\\n",
       "0         State servant              Incomplete higher            Married   \n",
       "1         State servant              Incomplete higher            Married   \n",
       "2         State servant              Incomplete higher            Married   \n",
       "3  Commercial associate  Secondary / secondary special     Civil marriage   \n",
       "4  Commercial associate  Secondary / secondary special     Civil marriage   \n",
       "\n",
       "         OCCUPATION_TYPE CNT_FAM_MEMBERS ORGANIZATION_TYPE DAYS_EMPLOYED  \\\n",
       "0                    NaN             3.0          Military         -7392   \n",
       "1                    NaN             3.0          Military         -7392   \n",
       "2                    NaN             3.0          Military         -7392   \n",
       "3  Private service staff             2.0     Self-employed         -1255   \n",
       "4  Private service staff             2.0     Self-employed         -1255   \n",
       "\n",
       "  DAYS_BIRTH  \n",
       "0     -14443  \n",
       "1     -14443  \n",
       "2     -14443  \n",
       "3     -21335  \n",
       "4     -21335  \n",
       "\n",
       "[5 rows x 40 columns]"
      ]
     },
     "execution_count": 49,
     "metadata": {},
     "output_type": "execute_result"
    }
   ],
   "source": [
    "final_data=pd.merge(prev_app_subset,application_subset,on='SK_ID_CURR',how='inner')\n",
    "final_data.head()"
   ]
  },
  {
   "cell_type": "code",
   "execution_count": 50,
   "metadata": {},
   "outputs": [
    {
     "data": {
      "text/plain": [
       "(1322703, 40)"
      ]
     },
     "execution_count": 50,
     "metadata": {},
     "output_type": "execute_result"
    }
   ],
   "source": [
    "final_data.shape"
   ]
  },
  {
   "cell_type": "code",
   "execution_count": 51,
   "metadata": {},
   "outputs": [
    {
     "data": {
      "text/plain": [
       "Index(['SK_ID_PREV_prev', 'NAME_CONTRACT_TYPE_prev', 'AMT_ANNUITY_prev',\n",
       "       'AMT_CREDIT_prev', 'AMT_APPLICATION_prev', 'AMT_DOWN_PAYMENT_prev',\n",
       "       'AMT_GOODS_PRICE_prev', 'RATE_DOWN_PAYMENT_prev',\n",
       "       'RATE_INTEREST_PRIMARY_prev', 'RATE_INTEREST_PRIVILEGED_prev',\n",
       "       'NAME_CASH_LOAN_PURPOSE_prev', 'NAME_CONTRACT_STATUS_prev',\n",
       "       'DAYS_DECISION_prev', 'NAME_PAYMENT_TYPE_prev',\n",
       "       'CODE_REJECT_REASON_prev', 'NAME_CLIENT_TYPE_prev',\n",
       "       'NAME_GOODS_CATEGORY_prev', 'NAME_PORTFOLIO_prev',\n",
       "       'NAME_PRODUCT_TYPE_prev', 'CHANNEL_TYPE_prev', 'CNT_PAYMENT_prev',\n",
       "       'NAME_YIELD_GROUP_prev', 'PRODUCT_COMBINATION_prev',\n",
       "       'NFLAG_INSURED_ON_APPROVAL_prev', 'SK_ID_CURR', 'TARGET',\n",
       "       'NAME_CONTRACT_TYPE', 'CODE_GENDER', 'AMT_INCOME_TOTAL', 'AMT_CREDIT',\n",
       "       'AMT_ANNUITY', 'AMT_GOODS_PRICE', 'NAME_INCOME_TYPE',\n",
       "       'NAME_EDUCATION_TYPE', 'NAME_FAMILY_STATUS', 'OCCUPATION_TYPE',\n",
       "       'CNT_FAM_MEMBERS', 'ORGANIZATION_TYPE', 'DAYS_EMPLOYED', 'DAYS_BIRTH'],\n",
       "      dtype='object')"
      ]
     },
     "execution_count": 51,
     "metadata": {},
     "output_type": "execute_result"
    }
   ],
   "source": [
    "final_data.columns"
   ]
  },
  {
   "cell_type": "markdown",
   "metadata": {},
   "source": [
    "## Univariate Analysis"
   ]
  },
  {
   "cell_type": "code",
   "execution_count": 52,
   "metadata": {},
   "outputs": [],
   "source": [
    "Target1=final_data[final_data.TARGET==1]\n",
    "Target0=final_data[final_data.TARGET==0]"
   ]
  },
  {
   "cell_type": "code",
   "execution_count": 53,
   "metadata": {},
   "outputs": [
    {
     "data": {
      "image/png": "[encoded data removed]",
      "text/plain": [
       "<Figure size 1080x360 with 2 Axes>"
      ]
     },
     "metadata": {
      "needs_background": "light"
     },
     "output_type": "display_data"
    }
   ],
   "source": [
    "#Comparing the target variable across NAME_CONTRACT_STATUS\n",
    "plt.figure(figsize=[15,5])\n",
    "\n",
    "plt.figure(1)\n",
    "plt.subplot(1,2,1)\n",
    "Target1.NAME_CONTRACT_STATUS_prev.value_counts().plot.bar()\n",
    "plt.xlabel(\"NAME_CONTRACT_STATUS\")\n",
    "plt.ylabel(\"Count\")\n",
    "plt.title(\"Target1 across NAME_CONTRACT_STATUS\")\n",
    "\n",
    "plt.subplot(1,2,2)\n",
    "Target0.NAME_CONTRACT_STATUS_prev.value_counts().plot.bar()\n",
    "plt.xlabel(\"NAME_CONTRACT_STATUS\")\n",
    "plt.ylabel(\"Count\")\n",
    "plt.title(\"Target0 across NAME_CONTRACT_STATUS\")\n",
    "plt.show()"
   ]
  },
  {
   "cell_type": "code",
   "execution_count": 54,
   "metadata": {},
   "outputs": [
    {
     "data": {
      "image/png": "[encoded data removed]",
      "text/plain": [
       "<Figure size 1080x360 with 2 Axes>"
      ]
     },
     "metadata": {
      "needs_background": "light"
     },
     "output_type": "display_data"
    }
   ],
   "source": [
    "#Comparing the target variable across NAME_CONTRACT_TYPE\n",
    "plt.figure(figsize=[15,5])\n",
    "\n",
    "plt.figure(1)\n",
    "plt.subplot(1,2,1)\n",
    "Target1[Target1.NAME_CONTRACT_TYPE_prev !='XNA'].NAME_CONTRACT_TYPE_prev.value_counts().plot.bar()\n",
    "plt.xlabel(\"NAME_CONTRACT_TYPE\")\n",
    "plt.ylabel(\"Count\")\n",
    "plt.title(\"Target1 across NAME_CONTRACT_TYPE\")\n",
    "\n",
    "plt.subplot(1,2,2)\n",
    "Target0[Target0.NAME_CONTRACT_TYPE_prev !='XNA'].NAME_CONTRACT_TYPE_prev.value_counts().plot.bar()\n",
    "plt.xlabel(\"NAME_CONTRACT_TYPE\")\n",
    "plt.ylabel(\"Count\")\n",
    "plt.title(\"Target0 across NAME_CONTRACT_TYPE\")\n",
    "plt.show()"
   ]
  },
  {
   "cell_type": "markdown",
   "metadata": {},
   "source": [
    "#### By comparison cash loans seems to have more chances to be a defaulter"
   ]
  },
  {
   "cell_type": "code",
   "execution_count": 55,
   "metadata": {},
   "outputs": [
    {
     "data": {
      "image/png": "[encoded data removed]",
      "text/plain": [
       "<Figure size 1440x360 with 2 Axes>"
      ]
     },
     "metadata": {
      "needs_background": "light"
     },
     "output_type": "display_data"
    }
   ],
   "source": [
    "#Comparing the target variable across NAME_GOODS_CATEGORY\n",
    "plt.figure(figsize=[20,5])\n",
    "\n",
    "plt.figure(1)\n",
    "plt.subplot(1,2,1)\n",
    "Target1[Target1.NAME_GOODS_CATEGORY_prev!='XNA'].NAME_GOODS_CATEGORY_prev.value_counts().plot.barh()\n",
    "plt.xlabel(\"NAME_GOODS_CATEGORY\")\n",
    "plt.ylabel(\"Count\")\n",
    "plt.title(\"Target1 across NAME_GOODS_CATEGORY\")\n",
    "\n",
    "plt.subplot(1,2,2)\n",
    "Target0[Target0.NAME_GOODS_CATEGORY_prev != 'XNA'].NAME_GOODS_CATEGORY_prev.value_counts().plot.barh()\n",
    "plt.xlabel(\"NAME_GOODS_CATEGORY\")\n",
    "plt.ylabel(\"Count\")\n",
    "plt.title(\"Target0 across NAME_GOODS_CATEGORY\")\n",
    "plt.show()\n"
   ]
  },
  {
   "cell_type": "markdown",
   "metadata": {},
   "source": [
    "#### Mobile category has equal probability for being and not being a defaulter"
   ]
  },
  {
   "cell_type": "markdown",
   "metadata": {},
   "source": [
    "## Bivariate Analysis"
   ]
  },
  {
   "cell_type": "code",
   "execution_count": 56,
   "metadata": {},
   "outputs": [
    {
     "data": {
      "image/png": "[encoded data removed]",
      "text/plain": [
       "<Figure size 432x432 with 3 Axes>"
      ]
     },
     "metadata": {
      "needs_background": "light"
     },
     "output_type": "display_data"
    }
   ],
   "source": [
    "#comparision of pattern of AMT_CREDIT and GOODS_PRICE with current and previous application\n",
    "sns.jointplot('AMT_CREDIT_prev','AMT_GOODS_PRICE_prev',final_data)\n",
    "plt.title(\"Previous Application Data\")\n",
    "plt.show()"
   ]
  },
  {
   "cell_type": "code",
   "execution_count": 57,
   "metadata": {},
   "outputs": [
    {
     "data": {
      "image/png": "[encoded data removed]",
      "text/plain": [
       "<Figure size 432x432 with 3 Axes>"
      ]
     },
     "metadata": {
      "needs_background": "light"
     },
     "output_type": "display_data"
    }
   ],
   "source": [
    "#for apllictaion data\n",
    "sns.jointplot('AMT_CREDIT','AMT_GOODS_PRICE',final_data)\n",
    "plt.title(\"Application Data\")\n",
    "plt.show()"
   ]
  },
  {
   "cell_type": "markdown",
   "metadata": {},
   "source": [
    "#### The patterns of both the previous_application and application_data are same with respect to amt_credit and amt_goods_price"
   ]
  },
  {
   "cell_type": "code",
   "execution_count": 58,
   "metadata": {},
   "outputs": [
    {
     "data": {
      "image/png": "[encoded data removed]",
      "text/plain": [
       "<Figure size 432x288 with 1 Axes>"
      ]
     },
     "metadata": {
      "needs_background": "light"
     },
     "output_type": "display_data"
    }
   ],
   "source": [
    "sns.barplot(x=\"NAME_CONTRACT_STATUS_prev\", y=\"AMT_CREDIT_prev\",hue=\"TARGET\", data=final_data)\n",
    "plt.show()"
   ]
  },
  {
   "cell_type": "markdown",
   "metadata": {},
   "source": [
    "### Having high credit_amt in previous application are refused"
   ]
  },
  {
   "cell_type": "code",
   "execution_count": 59,
   "metadata": {},
   "outputs": [
    {
     "data": {
      "image/png": "[encoded data removed]",
      "text/plain": [
       "<Figure size 432x288 with 1 Axes>"
      ]
     },
     "metadata": {
      "needs_background": "light"
     },
     "output_type": "display_data"
    }
   ],
   "source": [
    "sns.barplot(x=\"NAME_CONTRACT_STATUS_prev\", y=\"CNT_FAM_MEMBERS\",hue=\"TARGET\", data=final_data)\n",
    "plt.show()"
   ]
  },
  {
   "cell_type": "code",
   "execution_count": 60,
   "metadata": {},
   "outputs": [
    {
     "data": {
      "text/plain": [
       "<matplotlib.axes._subplots.AxesSubplot at 0x25b85137988>"
      ]
     },
     "execution_count": 60,
     "metadata": {},
     "output_type": "execute_result"
    },
    {
     "data": {
      "image/png": "[encoded data removed]",
      "text/plain": [
       "<Figure size 432x288 with 1 Axes>"
      ]
     },
     "metadata": {
      "needs_background": "light"
     },
     "output_type": "display_data"
    }
   ],
   "source": [
    "bins = [45000, 270000, 513531, 808650, 4050000]\n",
    "labels = ['Low','Moderate','High','Very High']\n",
    "\n",
    "\n",
    "final_data['bin'] = pd.cut(final_data.AMT_CREDIT, bins=bins, labels=labels)\n",
    "sns.barplot(x='bin',y='TARGET',hue='NAME_CONTRACT_STATUS_prev',data=final_data,estimator=np.mean)\n"
   ]
  },
  {
   "cell_type": "markdown",
   "metadata": {},
   "source": [
    "### More the credit amount more chances to be a defaulters."
   ]
  },
  {
   "cell_type": "code",
   "execution_count": 61,
   "metadata": {},
   "outputs": [
    {
     "data": {
      "text/plain": [
       "<matplotlib.axes._subplots.AxesSubplot at 0x25b90ff0b48>"
      ]
     },
     "execution_count": 61,
     "metadata": {},
     "output_type": "execute_result"
    },
    {
     "data": {
      "image/png": "[encoded data removed]",
      "text/plain": [
       "<Figure size 432x288 with 1 Axes>"
      ]
     },
     "metadata": {
      "needs_background": "light"
     },
     "output_type": "display_data"
    }
   ],
   "source": [
    "bins = [25650, 112500, 147150, 202500, 117000000]\n",
    "labels = ['Low','Moderate','High','Very High']\n",
    "\n",
    "\n",
    "final_data['bin'] = pd.cut(final_data.AMT_INCOME_TOTAL, bins=bins, labels=labels)\n",
    "sns.barplot(x='bin',y='TARGET',hue='NAME_CONTRACT_STATUS_prev',data=final_data,estimator=np.mean)"
   ]
  },
  {
   "cell_type": "markdown",
   "metadata": {},
   "source": [
    "### less the income more chances to be a defaulter"
   ]
  },
  {
   "cell_type": "code",
   "execution_count": 62,
   "metadata": {},
   "outputs": [
    {
     "data": {
      "image/png": "[encoded data removed]",
      "text/plain": [
       "<Figure size 432x288 with 1 Axes>"
      ]
     },
     "metadata": {
      "needs_background": "light"
     },
     "output_type": "display_data"
    }
   ],
   "source": [
    "sns.barplot(x=\"NAME_CONTRACT_STATUS_prev\", y=\"DAYS_EMPLOYED\",hue=\"TARGET\", data=final_data)\n",
    "plt.show()"
   ]
  },
  {
   "cell_type": "markdown",
   "metadata": {},
   "source": [
    "The people whose DAYS_EMPLOYEED is less have more chances to be a defaulter"
   ]
  },
  {
   "cell_type": "markdown",
   "metadata": {},
   "source": [
    "## Factors that drive more chances to be a defaulter and Rejection are\n",
    "    1.Total_Income less the income more chances to be a defaulter and high chances of Rejection\n",
    "    2.No of Days Employed less the days more chances to be a defaulter\n",
    "    3.Credit amount higher the credit amount more chances to be a defaulter"
   ]
  }
 ],
 "metadata": {
  "kernelspec": {
   "display_name": "Python 3",
   "language": "python",
   "name": "python3"
  },
  "language_info": {
   "codemirror_mode": {
    "name": "ipython",
    "version": 3
   },
   "file_extension": ".py",
   "mimetype": "text/x-python",
   "name": "python",
   "nbconvert_exporter": "python",
   "pygments_lexer": "ipython3",
   "version": "3.6.5"
  }
 },
 "nbformat": 4,
 "nbformat_minor": 2
}
